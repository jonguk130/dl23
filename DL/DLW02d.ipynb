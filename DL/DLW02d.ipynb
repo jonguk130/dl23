{
  "nbformat": 4,
  "nbformat_minor": 0,
  "metadata": {
    "colab": {
      "provenance": [],
      "include_colab_link": true
    },
    "kernelspec": {
      "name": "python3",
      "display_name": "Python 3"
    },
    "language_info": {
      "name": "python"
    }
  },
  "cells": [
    {
      "cell_type": "markdown",
      "metadata": {
        "id": "view-in-github",
        "colab_type": "text"
      },
      "source": [
        "<a href=\"https://colab.research.google.com/github/jonguk130/dl23/blob/main/DL/DLW02d.ipynb\" target=\"_parent\"><img src=\"https://colab.research.google.com/assets/colab-badge.svg\" alt=\"Open In Colab\"/></a>"
      ]
    },
    {
      "cell_type": "markdown",
      "source": [
        "---\n",
        "# 📗 Topic [2]: Coding basic #2\n",
        "---\n",
        "Keywords:\n",
        "\n",
        "+ variables\n",
        "+ **operators**\n",
        "+ **data types: list and dictionary**"
      ],
      "metadata": {
        "id": "k4A5_MYHpcNQ"
      }
    },
    {
      "cell_type": "markdown",
      "source": [
        "Your github IDs [here](https://docs.google.com/spreadsheets/d/17SX51lCqOdtvC7cAGoX5tP9fKwVdGY5sRzMg2pXh9uk/edit#gid=0) - revised 0327"
      ],
      "metadata": {
        "id": "mUVgzk50XMkt"
      }
    },
    {
      "cell_type": "markdown",
      "source": [
        "## [1] Variables"
      ],
      "metadata": {
        "id": "93gQaEo1RX63"
      }
    },
    {
      "cell_type": "markdown",
      "source": [
        "+ **A variable** is a named storage location that holds a value.\n",
        "+ Variables can be used **to store values** such as numbers, strings, lists, or other data types. \n",
        "+ The value of a variable can change throughout the execution of a program. \n",
        "+ To declare a variable in Python, you need to assign a value to it using the **equal (=) sign.**"
      ],
      "metadata": {
        "id": "jJT4hD1teuJr"
      }
    },
    {
      "cell_type": "code",
      "source": [
        "x = 10\n",
        "y = \"Hello, class!\"\n",
        "z = [1, 2, 3]"
      ],
      "metadata": {
        "id": "Xes87bY2X45M"
      },
      "execution_count": 13,
      "outputs": []
    },
    {
      "cell_type": "markdown",
      "source": [
        "↗️ In the above example, 'x' is assigned the value of 10, 'y' is assigned the value of \"Hello, World!\", and 'z' is assigned the value of [1, 2, 3]."
      ],
      "metadata": {
        "id": "ulw6QsP5ZiKp"
      }
    },
    {
      "cell_type": "code",
      "source": [
        "# We can assign a link or a function\n",
        "import pandas as pd\n",
        "url = \"https://github.com/MK316/Spring2023/raw/main/data/att_sample.csv\"\n",
        "data = pd.read_csv(url)\n",
        "data"
      ],
      "metadata": {
        "id": "_7bvpJt2aQmg",
        "outputId": "81ad5a98-479d-47bc-f7ac-489fc1e96fb9",
        "colab": {
          "base_uri": "https://localhost:8080/",
          "height": 488
        }
      },
      "execution_count": 14,
      "outputs": [
        {
          "output_type": "execute_result",
          "data": {
            "text/plain": [
              "      Names\n",
              "0      Mary\n",
              "1      John\n",
              "2       Tim\n",
              "3       Bob\n",
              "4     Sarah\n",
              "5      Kate\n",
              "6     Marie\n",
              "7   Johnson\n",
              "8      Mike\n",
              "9     Harry\n",
              "10      Jin\n",
              "11      Sam\n",
              "12     Paul\n",
              "13  Natalie"
            ],
            "text/html": [
              "\n",
              "  <div id=\"df-accf2a5a-92ca-46b4-b445-2608363397f7\">\n",
              "    <div class=\"colab-df-container\">\n",
              "      <div>\n",
              "<style scoped>\n",
              "    .dataframe tbody tr th:only-of-type {\n",
              "        vertical-align: middle;\n",
              "    }\n",
              "\n",
              "    .dataframe tbody tr th {\n",
              "        vertical-align: top;\n",
              "    }\n",
              "\n",
              "    .dataframe thead th {\n",
              "        text-align: right;\n",
              "    }\n",
              "</style>\n",
              "<table border=\"1\" class=\"dataframe\">\n",
              "  <thead>\n",
              "    <tr style=\"text-align: right;\">\n",
              "      <th></th>\n",
              "      <th>Names</th>\n",
              "    </tr>\n",
              "  </thead>\n",
              "  <tbody>\n",
              "    <tr>\n",
              "      <th>0</th>\n",
              "      <td>Mary</td>\n",
              "    </tr>\n",
              "    <tr>\n",
              "      <th>1</th>\n",
              "      <td>John</td>\n",
              "    </tr>\n",
              "    <tr>\n",
              "      <th>2</th>\n",
              "      <td>Tim</td>\n",
              "    </tr>\n",
              "    <tr>\n",
              "      <th>3</th>\n",
              "      <td>Bob</td>\n",
              "    </tr>\n",
              "    <tr>\n",
              "      <th>4</th>\n",
              "      <td>Sarah</td>\n",
              "    </tr>\n",
              "    <tr>\n",
              "      <th>5</th>\n",
              "      <td>Kate</td>\n",
              "    </tr>\n",
              "    <tr>\n",
              "      <th>6</th>\n",
              "      <td>Marie</td>\n",
              "    </tr>\n",
              "    <tr>\n",
              "      <th>7</th>\n",
              "      <td>Johnson</td>\n",
              "    </tr>\n",
              "    <tr>\n",
              "      <th>8</th>\n",
              "      <td>Mike</td>\n",
              "    </tr>\n",
              "    <tr>\n",
              "      <th>9</th>\n",
              "      <td>Harry</td>\n",
              "    </tr>\n",
              "    <tr>\n",
              "      <th>10</th>\n",
              "      <td>Jin</td>\n",
              "    </tr>\n",
              "    <tr>\n",
              "      <th>11</th>\n",
              "      <td>Sam</td>\n",
              "    </tr>\n",
              "    <tr>\n",
              "      <th>12</th>\n",
              "      <td>Paul</td>\n",
              "    </tr>\n",
              "    <tr>\n",
              "      <th>13</th>\n",
              "      <td>Natalie</td>\n",
              "    </tr>\n",
              "  </tbody>\n",
              "</table>\n",
              "</div>\n",
              "      <button class=\"colab-df-convert\" onclick=\"convertToInteractive('df-accf2a5a-92ca-46b4-b445-2608363397f7')\"\n",
              "              title=\"Convert this dataframe to an interactive table.\"\n",
              "              style=\"display:none;\">\n",
              "        \n",
              "  <svg xmlns=\"http://www.w3.org/2000/svg\" height=\"24px\"viewBox=\"0 0 24 24\"\n",
              "       width=\"24px\">\n",
              "    <path d=\"M0 0h24v24H0V0z\" fill=\"none\"/>\n",
              "    <path d=\"M18.56 5.44l.94 2.06.94-2.06 2.06-.94-2.06-.94-.94-2.06-.94 2.06-2.06.94zm-11 1L8.5 8.5l.94-2.06 2.06-.94-2.06-.94L8.5 2.5l-.94 2.06-2.06.94zm10 10l.94 2.06.94-2.06 2.06-.94-2.06-.94-.94-2.06-.94 2.06-2.06.94z\"/><path d=\"M17.41 7.96l-1.37-1.37c-.4-.4-.92-.59-1.43-.59-.52 0-1.04.2-1.43.59L10.3 9.45l-7.72 7.72c-.78.78-.78 2.05 0 2.83L4 21.41c.39.39.9.59 1.41.59.51 0 1.02-.2 1.41-.59l7.78-7.78 2.81-2.81c.8-.78.8-2.07 0-2.86zM5.41 20L4 18.59l7.72-7.72 1.47 1.35L5.41 20z\"/>\n",
              "  </svg>\n",
              "      </button>\n",
              "      \n",
              "  <style>\n",
              "    .colab-df-container {\n",
              "      display:flex;\n",
              "      flex-wrap:wrap;\n",
              "      gap: 12px;\n",
              "    }\n",
              "\n",
              "    .colab-df-convert {\n",
              "      background-color: #E8F0FE;\n",
              "      border: none;\n",
              "      border-radius: 50%;\n",
              "      cursor: pointer;\n",
              "      display: none;\n",
              "      fill: #1967D2;\n",
              "      height: 32px;\n",
              "      padding: 0 0 0 0;\n",
              "      width: 32px;\n",
              "    }\n",
              "\n",
              "    .colab-df-convert:hover {\n",
              "      background-color: #E2EBFA;\n",
              "      box-shadow: 0px 1px 2px rgba(60, 64, 67, 0.3), 0px 1px 3px 1px rgba(60, 64, 67, 0.15);\n",
              "      fill: #174EA6;\n",
              "    }\n",
              "\n",
              "    [theme=dark] .colab-df-convert {\n",
              "      background-color: #3B4455;\n",
              "      fill: #D2E3FC;\n",
              "    }\n",
              "\n",
              "    [theme=dark] .colab-df-convert:hover {\n",
              "      background-color: #434B5C;\n",
              "      box-shadow: 0px 1px 3px 1px rgba(0, 0, 0, 0.15);\n",
              "      filter: drop-shadow(0px 1px 2px rgba(0, 0, 0, 0.3));\n",
              "      fill: #FFFFFF;\n",
              "    }\n",
              "  </style>\n",
              "\n",
              "      <script>\n",
              "        const buttonEl =\n",
              "          document.querySelector('#df-accf2a5a-92ca-46b4-b445-2608363397f7 button.colab-df-convert');\n",
              "        buttonEl.style.display =\n",
              "          google.colab.kernel.accessAllowed ? 'block' : 'none';\n",
              "\n",
              "        async function convertToInteractive(key) {\n",
              "          const element = document.querySelector('#df-accf2a5a-92ca-46b4-b445-2608363397f7');\n",
              "          const dataTable =\n",
              "            await google.colab.kernel.invokeFunction('convertToInteractive',\n",
              "                                                     [key], {});\n",
              "          if (!dataTable) return;\n",
              "\n",
              "          const docLinkHtml = 'Like what you see? Visit the ' +\n",
              "            '<a target=\"_blank\" href=https://colab.research.google.com/notebooks/data_table.ipynb>data table notebook</a>'\n",
              "            + ' to learn more about interactive tables.';\n",
              "          element.innerHTML = '';\n",
              "          dataTable['output_type'] = 'display_data';\n",
              "          await google.colab.output.renderOutput(dataTable, element);\n",
              "          const docLink = document.createElement('div');\n",
              "          docLink.innerHTML = docLinkHtml;\n",
              "          element.appendChild(docLink);\n",
              "        }\n",
              "      </script>\n",
              "    </div>\n",
              "  </div>\n",
              "  "
            ]
          },
          "metadata": {},
          "execution_count": 14
        }
      ]
    },
    {
      "cell_type": "markdown",
      "source": [
        "## Commenting '#'\n",
        "\n",
        "- In Python, the # symbol is used to indicate comment lines. A comment is a line of text in a code that is ignored by the Python interpreter and is used to provide explanations or notes for the reader of the code.\n",
        "\n",
        "## Uncommenting shortcut: \n",
        "* \"Ctrl + /\" (Place the cursor on the code line and press the Control + / key.)"
      ],
      "metadata": {
        "id": "xZv9R8I8ZWvt"
      }
    },
    {
      "cell_type": "code",
      "source": [
        "# This is a comment in Python\n",
        "x = 10 #너는 바보야 # this is also a comment"
      ],
      "metadata": {
        "id": "7UJmbmmTaFx9"
      },
      "execution_count": 11,
      "outputs": []
    },
    {
      "cell_type": "code",
      "source": [
        "x1 = x * 10\n",
        "x2 = x + 5\n",
        "\n",
        "print(x1) # Print the value of x1\n",
        "(x1, x2) # Print the values of x1 and x /"
      ],
      "metadata": {
        "id": "Ivc72tB0X_TS",
        "outputId": "c2da7d34-7717-454b-f5ed-feaabcd8fd5e",
        "colab": {
          "base_uri": "https://localhost:8080/"
        }
      },
      "execution_count": 19,
      "outputs": [
        {
          "output_type": "stream",
          "name": "stdout",
          "text": [
            "100\n"
          ]
        },
        {
          "output_type": "execute_result",
          "data": {
            "text/plain": [
              "(100, 15)"
            ]
          },
          "metadata": {},
          "execution_count": 19
        }
      ]
    },
    {
      "cell_type": "code",
      "source": [
        "print(y) , print(z)\n",
        "y1 = y + \"Welcome to the class.\"\n",
        "z1 = z + [3,2,1]\n",
        " \n",
        "print(y1, z1)"
      ],
      "metadata": {
        "id": "cxePqv-52RU0",
        "outputId": "99185bfb-ed81-4907-de4a-2c79645d1d72",
        "colab": {
          "base_uri": "https://localhost:8080/"
        }
      },
      "execution_count": 29,
      "outputs": [
        {
          "output_type": "stream",
          "name": "stdout",
          "text": [
            "Hello, class!\n",
            "[1, 2, 3]\n",
            "Hello, class!Welcome to the class. [1, 2, 3, 3, 2, 1]\n"
          ]
        }
      ]
    },
    {
      "cell_type": "markdown",
      "source": [
        "Input types:\n",
        "\n",
        "* integer: e.g., -3, 1, 0, 234, etc.\n",
        "* float: e.g., -3.0, 1.2, 0, 3.141592653589793238, etc.\n",
        "* string: (characters) \"1\", '0', \"3.29\", \"Mary\", \"euphoria\", 'My name is Jane.'\n",
        "\n",
        "_Note:_ double or single quotation marks denote **string** data. (Open and close should match.)"
      ],
      "metadata": {
        "id": "4zDbyBHbeQsq"
      }
    },
    {
      "cell_type": "code",
      "source": [
        "# DIY\n",
        "x = 1\n",
        "y = 3\n",
        "z = x + y\n",
        "print(z)\n",
        "\n",
        "x1 = \"1\"\n",
        "y1 = \"3\"\n",
        "z1 = x1 + y1\n",
        "print(z1)"
      ],
      "metadata": {
        "colab": {
          "base_uri": "https://localhost:8080/"
        },
        "id": "yzZuC29QfP3T",
        "outputId": "bd780668-fcc3-4748-e800-ce6f069f7708"
      },
      "execution_count": 30,
      "outputs": [
        {
          "output_type": "stream",
          "name": "stdout",
          "text": [
            "4\n",
            "13\n"
          ]
        }
      ]
    },
    {
      "cell_type": "code",
      "source": [
        "type(z)"
      ],
      "metadata": {
        "colab": {
          "base_uri": "https://localhost:8080/"
        },
        "id": "qwDb8cf5fkKi",
        "outputId": "1a9a234e-e619-47f3-ff13-9646163303f0"
      },
      "execution_count": null,
      "outputs": [
        {
          "output_type": "execute_result",
          "data": {
            "text/plain": [
              "int"
            ]
          },
          "metadata": {},
          "execution_count": 7
        }
      ]
    },
    {
      "cell_type": "code",
      "source": [
        "type(z1)"
      ],
      "metadata": {
        "colab": {
          "base_uri": "https://localhost:8080/"
        },
        "id": "L7sxvSaOfsOt",
        "outputId": "da3fd3a5-9d4f-4392-f3e6-64848a500754"
      },
      "execution_count": 31,
      "outputs": [
        {
          "output_type": "execute_result",
          "data": {
            "text/plain": [
              "str"
            ]
          },
          "metadata": {},
          "execution_count": 31
        }
      ]
    },
    {
      "cell_type": "code",
      "source": [
        "print(type(z), type(z1))"
      ],
      "metadata": {
        "colab": {
          "base_uri": "https://localhost:8080/"
        },
        "id": "bbFaL_GWfwMH",
        "outputId": "7f4e3965-e83a-4b24-9780-34d04e1a5305"
      },
      "execution_count": null,
      "outputs": [
        {
          "output_type": "stream",
          "name": "stdout",
          "text": [
            "<class 'int'> <class 'str'>\n"
          ]
        }
      ]
    },
    {
      "cell_type": "markdown",
      "source": [
        "## [2] Operators\n",
        "\n",
        "+ Symbols that perform operations on values and variables. \n",
        "* They are used to perform arithmetic and logical operations, and they can also be used to manipulate and compare values. "
      ],
      "metadata": {
        "id": "5JgA2T2dRft5"
      }
    },
    {
      "cell_type": "markdown",
      "source": [],
      "metadata": {
        "id": "Ijv76wEQL2uF"
      }
    },
    {
      "cell_type": "markdown",
      "source": [
        "1. Arithmetic Operators: +, -, *, /, %, ** (for exponentiation)\n",
        "2. semicolon ';' - separate multiple statements (code lines) on a single line."
      ],
      "metadata": {
        "id": "NJBgu_O4bczL"
      }
    },
    {
      "cell_type": "code",
      "source": [
        "x = 2; y = 5\n",
        "\n",
        "a1 = x + y\n",
        "a2 = x - y\n",
        "a3 = x * y\n",
        "a4 = x / y\n",
        "a5 = x ** y"
      ],
      "metadata": {
        "id": "dXT3pIzobUHU"
      },
      "execution_count": 33,
      "outputs": []
    },
    {
      "cell_type": "code",
      "source": [
        "print(a1, a2, a3, a4, a5)"
      ],
      "metadata": {
        "colab": {
          "base_uri": "https://localhost:8080/"
        },
        "id": "_m3JBsOKd6Uv",
        "outputId": "5e36544f-1240-480d-90d9-6cca63f5d78d"
      },
      "execution_count": 34,
      "outputs": [
        {
          "output_type": "stream",
          "name": "stdout",
          "text": [
            "7 -3 10 0.4 32\n"
          ]
        }
      ]
    },
    {
      "cell_type": "code",
      "source": [
        "print(\"The value of a1:\", a1)"
      ],
      "metadata": {
        "colab": {
          "base_uri": "https://localhost:8080/"
        },
        "id": "5kq7I3nMd0Xi",
        "outputId": "d2b23cf4-6ce2-4cb8-809d-97db736c82bb"
      },
      "execution_count": null,
      "outputs": [
        {
          "output_type": "stream",
          "name": "stdout",
          "text": [
            "The value of a1: 7\n"
          ]
        }
      ]
    },
    {
      "cell_type": "markdown",
      "source": [
        "# 🌱 Define a function\n",
        "\n",
        "Demo 🔢 Calculator"
      ],
      "metadata": {
        "id": "Cx1NyWUAybc8"
      }
    },
    {
      "cell_type": "code",
      "source": [
        "def add(x, y):\n",
        " return x+y\n",
        "def add(x, y):\n",
        "     return x + y"
      ],
      "metadata": {
        "id": "aZ2rvJF1MPz9"
      },
      "execution_count": 59,
      "outputs": []
    },
    {
      "cell_type": "code",
      "source": [
        "# This function adds two numbers\n",
        "def add(x, y):\n",
        "     return x + y\n",
        "\n",
        "# This function subtracts two numbers\n",
        "def subtract(x, y):\n",
        "    return x - y\n",
        "\n",
        "# This function multiplies two numbers\n",
        "def multiply(x, y):\n",
        "    return x * y\n",
        "\n",
        "# This function divides two numbers\n",
        "def divide(x, y):\n",
        "    return x / y\n"
      ],
      "metadata": {
        "id": "Dod3_zgYdsWe"
      },
      "execution_count": 41,
      "outputs": []
    },
    {
      "cell_type": "code",
      "source": [
        "# DIY: define a function names switch(x, y), where the input x, y changes its position in the output."
      ],
      "metadata": {
        "id": "W9CuAaqXgwb5"
      },
      "execution_count": null,
      "outputs": []
    },
    {
      "cell_type": "code",
      "source": [
        "# Test\n",
        "\n",
        "add(2,3)\n",
        "subtract(3,2)\n",
        "multiply(2,3)\n",
        "divide(3,2)"
      ],
      "metadata": {
        "id": "IoHh-U2GBsqH",
        "outputId": "a3d3605a-4592-4ef7-e099-9c7628d7e5ae",
        "colab": {
          "base_uri": "https://localhost:8080/"
        }
      },
      "execution_count": 57,
      "outputs": [
        {
          "output_type": "execute_result",
          "data": {
            "text/plain": [
              "1.5"
            ]
          },
          "metadata": {},
          "execution_count": 57
        }
      ]
    },
    {
      "cell_type": "markdown",
      "source": [
        "## Using dropbox format"
      ],
      "metadata": {
        "id": "eOluPoNqCCE1"
      }
    },
    {
      "cell_type": "code",
      "source": [
        "!pip install gTTS"
      ],
      "metadata": {
        "id": "Ek8TdOTaNj0t",
        "outputId": "7949812b-9829-46ef-ec83-e29b5cb09b4c",
        "colab": {
          "base_uri": "https://localhost:8080/"
        }
      },
      "execution_count": 63,
      "outputs": [
        {
          "output_type": "stream",
          "name": "stdout",
          "text": [
            "Looking in indexes: https://pypi.org/simple, https://us-python.pkg.dev/colab-wheels/public/simple/\n",
            "Collecting gTTS\n",
            "  Downloading gTTS-2.3.1-py3-none-any.whl (28 kB)\n",
            "Requirement already satisfied: requests<3,>=2.27 in /usr/local/lib/python3.9/dist-packages (from gTTS) (2.27.1)\n",
            "Requirement already satisfied: click<8.2,>=7.1 in /usr/local/lib/python3.9/dist-packages (from gTTS) (8.1.3)\n",
            "Requirement already satisfied: idna<4,>=2.5 in /usr/local/lib/python3.9/dist-packages (from requests<3,>=2.27->gTTS) (3.4)\n",
            "Requirement already satisfied: urllib3<1.27,>=1.21.1 in /usr/local/lib/python3.9/dist-packages (from requests<3,>=2.27->gTTS) (1.26.15)\n",
            "Requirement already satisfied: certifi>=2017.4.17 in /usr/local/lib/python3.9/dist-packages (from requests<3,>=2.27->gTTS) (2022.12.7)\n",
            "Requirement already satisfied: charset-normalizer~=2.0.0 in /usr/local/lib/python3.9/dist-packages (from requests<3,>=2.27->gTTS) (2.0.12)\n",
            "Installing collected packages: gTTS\n",
            "Successfully installed gTTS-2.3.1\n"
          ]
        }
      ]
    },
    {
      "cell_type": "code",
      "source": [
        "from gtts import gTTS\n",
        "from IPython.display import Audio"
      ],
      "metadata": {
        "id": "3-1TZQZJNvtc"
      },
      "execution_count": 64,
      "outputs": []
    },
    {
      "cell_type": "code",
      "source": [
        "def tts(text): \n",
        "  gtts_object = gTTS(text,lang = \"en\", slow = True) \n",
        "  gtts_object.save(\"myaudio.mp3\")\n",
        "  return Audio(\"myaudio.mp3\")"
      ],
      "metadata": {
        "id": "kDmqv_8BNzLt"
      },
      "execution_count": 65,
      "outputs": []
    },
    {
      "cell_type": "code",
      "source": [
        "func = \"add\" #@param = [\"add\",\"subtract\",\"multiply\",\"divide\"]\n",
        "digits = input(\"Type two numbers: (e.g., 3,4)\")\n",
        "digitsplit = digits.split(',')\n",
        "d1 = int(digitsplit[0])\n",
        "d2 = int(digitsplit[1])\n",
        "\n",
        "if func == \"add\":\n",
        "  result = add(d1,d2)\n",
        "  text = \"The addition of %d and %d equals %d.\"%(d1,d2,result)\n",
        "elif func == \"subtract\":\n",
        "  result = subtract(d1,d2)\n",
        "  text = \"If you subtract %d from %d, you get %d.\"%(d2,d1,result)\n",
        "elif func == \"divide\":\n",
        "  result = divide(d1,d2)\n",
        "  text = \"When you divide %d by %d, you get %d.\"%(d1,d2,result)\n",
        "elif func == \"multiply\":\n",
        "  result = multiply(d1,d2)\n",
        "  text = \"%d multiplied by %d is %d.\"%(d1,d2,result)\n",
        "\n",
        "print(text)\n",
        "tts(text)\n",
        "Audio(\"myaudio.mp3\")"
      ],
      "metadata": {
        "cellView": "form",
        "id": "FT47bY6qBo3k",
        "outputId": "554b327e-3c95-4d98-f6cc-2c9f5d41394e",
        "colab": {
          "base_uri": "https://localhost:8080/",
          "height": 111
        }
      },
      "execution_count": 69,
      "outputs": [
        {
          "output_type": "stream",
          "name": "stdout",
          "text": [
            "Type two numbers: (e.g., 3,4)3, 2547\n",
            "The addition of 3 and 2547 equals 2550.\n"
          ]
        },
        {
          "output_type": "execute_result",
          "data": {
            "text/plain": [
              "<IPython.lib.display.Audio object>"
            ],
            "text/html": [
              "\n",
              "                <audio  controls=\"controls\" >\n",
              "                    <source src=\"data:audio/mpeg;base64,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\" type=\"audio/mpeg\" />\n",
              "                    Your browser does not support the audio element.\n",
              "                </audio>\n",
              "              "
            ]
          },
          "metadata": {},
          "execution_count": 69
        }
      ]
    },
    {
      "cell_type": "markdown",
      "source": [
        "More operators: <br>\n",
        "* Comparison Operators: ==, !=, <, >, <=, >= <br>\n",
        "* Assignment Operators: =, +=, -=, *=, /=, %= <br>\n",
        "* Logical Operators: and, or, not <br>\n",
        "* Identity Operators: is, is not <br>\n",
        "* Membership Operators: in, not in "
      ],
      "metadata": {
        "id": "sfubu24UbqjH"
      }
    },
    {
      "cell_type": "markdown",
      "source": [
        "# 📗Topic [3] Data types: number, string, list and dictionary\n"
      ],
      "metadata": {
        "id": "3eSrUoglRh6-"
      }
    },
    {
      "cell_type": "markdown",
      "source": [
        "\n",
        "|Data type| |\n",
        "|:--:|:--:|\n",
        "|number|int, float|\n",
        "|string|charcter|\n",
        "|list|[1, 2,4], ['Mary','Tom','Jane'|\n",
        "|dictionary|(key: value), [('English': 80), ('Korean':90)]|\n",
        "|tuple|('zero', 0)|\n"
      ],
      "metadata": {
        "id": "ZVFb5JmJrPXu"
      }
    },
    {
      "cell_type": "code",
      "source": [
        "a1 = 3   # a1 is integer\n",
        "a2 = 3.0 # a2 is float\n",
        "a3 = \"3\" # a3 is string\n",
        "\n",
        "type(a1); type(a2); type(a3)\n",
        "# print(type(a1), type(a2), type(a3))"
      ],
      "metadata": {
        "colab": {
          "base_uri": "https://localhost:8080/"
        },
        "id": "g-kvldqENA1e",
        "outputId": "7ac463bc-4877-4e58-ed5d-d31a0c38b8c3"
      },
      "execution_count": null,
      "outputs": [
        {
          "output_type": "stream",
          "name": "stdout",
          "text": [
            "<class 'int'> <class 'float'> <class 'str'>\n"
          ]
        }
      ]
    },
    {
      "cell_type": "markdown",
      "source": [
        "list and index (0, 1, 2,...)"
      ],
      "metadata": {
        "id": "HC_wMsPnNbzs"
      }
    },
    {
      "cell_type": "code",
      "source": [
        "a = [1, \"Mary\", 4, \"John\"]  # This is a list.\n",
        "print(type(a))\n",
        "a1\n",
        "# a+a"
      ],
      "metadata": {
        "colab": {
          "base_uri": "https://localhost:8080/"
        },
        "id": "LyTw7phONZHE",
        "outputId": "76303dfb-6f90-4f44-fead-a0075ebcb369"
      },
      "execution_count": 70,
      "outputs": [
        {
          "output_type": "stream",
          "name": "stdout",
          "text": [
            "<class 'list'>\n"
          ]
        }
      ]
    },
    {
      "cell_type": "markdown",
      "source": [
        "* index: Python index starts from '0'\n",
        "\n",
        "e.g., a = [1, 2, 3, 4]"
      ],
      "metadata": {
        "id": "-fL-pJvj7NW8"
      }
    },
    {
      "cell_type": "code",
      "source": [
        "import string\n",
        "a[0]\n",
        "# type(a[0])\n",
        "# type(a[1])\n",
        "a[0] + a[2]\n",
        "a[0] + a[1]\n",
        "str(a[0] +a[1])"
      ],
      "metadata": {
        "id": "9Z5zLDGc7X13",
        "outputId": "31b16498-40cd-40f3-e5cd-a1930ec1ca20",
        "colab": {
          "base_uri": "https://localhost:8080/",
          "height": 229
        }
      },
      "execution_count": 79,
      "outputs": [
        {
          "output_type": "error",
          "ename": "TypeError",
          "evalue": "ignored",
          "traceback": [
            "\u001b[0;31m---------------------------------------------------------------------------\u001b[0m",
            "\u001b[0;31mTypeError\u001b[0m                                 Traceback (most recent call last)",
            "\u001b[0;32m<ipython-input-79-89333eb7e10a>\u001b[0m in \u001b[0;36m<module>\u001b[0;34m\u001b[0m\n\u001b[1;32m      4\u001b[0m \u001b[0;31m# type(a[1])\u001b[0m\u001b[0;34m\u001b[0m\u001b[0;34m\u001b[0m\u001b[0m\n\u001b[1;32m      5\u001b[0m \u001b[0ma\u001b[0m\u001b[0;34m[\u001b[0m\u001b[0;36m0\u001b[0m\u001b[0;34m]\u001b[0m \u001b[0;34m+\u001b[0m \u001b[0ma\u001b[0m\u001b[0;34m[\u001b[0m\u001b[0;36m2\u001b[0m\u001b[0;34m]\u001b[0m\u001b[0;34m\u001b[0m\u001b[0;34m\u001b[0m\u001b[0m\n\u001b[0;32m----> 6\u001b[0;31m \u001b[0ma\u001b[0m\u001b[0;34m[\u001b[0m\u001b[0;36m0\u001b[0m\u001b[0;34m]\u001b[0m \u001b[0;34m+\u001b[0m \u001b[0ma\u001b[0m\u001b[0;34m[\u001b[0m\u001b[0;36m1\u001b[0m\u001b[0;34m]\u001b[0m\u001b[0;34m\u001b[0m\u001b[0;34m\u001b[0m\u001b[0m\n\u001b[0m\u001b[1;32m      7\u001b[0m \u001b[0mstr\u001b[0m\u001b[0;34m(\u001b[0m\u001b[0ma\u001b[0m\u001b[0;34m[\u001b[0m\u001b[0;36m0\u001b[0m\u001b[0;34m]\u001b[0m \u001b[0;34m+\u001b[0m\u001b[0ma\u001b[0m\u001b[0;34m[\u001b[0m\u001b[0;36m1\u001b[0m\u001b[0;34m]\u001b[0m\u001b[0;34m)\u001b[0m\u001b[0;34m\u001b[0m\u001b[0;34m\u001b[0m\u001b[0m\n",
            "\u001b[0;31mTypeError\u001b[0m: unsupported operand type(s) for +: 'int' and 'str'"
          ]
        }
      ]
    },
    {
      "cell_type": "markdown",
      "source": [
        "[Github accounts](https://raw.githubusercontent.com/MK316/Spring2023/main/DL/files/DL_github.csv)"
      ],
      "metadata": {
        "id": "S-KG49Zaim0S"
      }
    },
    {
      "cell_type": "markdown",
      "source": [
        "\n",
        "\n",
        "---\n",
        "# The End\n"
      ],
      "metadata": {
        "id": "3cZjH9xIiN4_"
      }
    }
  ]
}