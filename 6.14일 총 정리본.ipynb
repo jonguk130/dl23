{
  "nbformat": 4,
  "nbformat_minor": 0,
  "metadata": {
    "colab": {
      "provenance": [],
      "include_colab_link": true
    },
    "kernelspec": {
      "name": "python3",
      "display_name": "Python 3"
    },
    "language_info": {
      "name": "python"
    }
  },
  "cells": [
    {
      "cell_type": "markdown",
      "metadata": {
        "id": "view-in-github",
        "colab_type": "text"
      },
      "source": [
        "<a href=\"https://colab.research.google.com/github/jonguk130/dl23/blob/main/6.14%EC%9D%BC%20%EC%B4%9D%20%EC%A0%95%EB%A6%AC%EB%B3%B8.ipynb\" target=\"_parent\"><img src=\"https://colab.research.google.com/assets/colab-badge.svg\" alt=\"Open In Colab\"/></a>"
      ]
    },
    {
      "cell_type": "code",
      "source": [
        "#@TTS적는법\n",
        "%%capture\n",
        "!pip install gTTS\n",
        "from gtts import gTTS\n",
        "from IPython.display import Audio\n",
        "\n",
        "def tts(text):\n",
        "  gtts_object = gTTS(text,lang = \"en\", slow = True)\n",
        "  gtts_object.save(\"myaudio.mp3\")\n",
        "  return Audio(\"myaudio.mp3\")"
      ],
      "metadata": {
        "id": "7zQxQn04qiyD"
      },
      "execution_count": 7,
      "outputs": []
    },
    {
      "cell_type": "code",
      "source": [
        "# [2] Try it yourself\n",
        "tts('Hello students')"
      ],
      "metadata": {
        "id": "zxYC8qxTrAaw",
        "outputId": "c9d5c5f8-4d71-45e8-8a6e-4545c749b4ba",
        "colab": {
          "base_uri": "https://localhost:8080/",
          "height": 74
        }
      },
      "execution_count": 2,
      "outputs": [
        {
          "output_type": "execute_result",
          "data": {
            "text/plain": [
              "<IPython.lib.display.Audio object>"
            ],
            "text/html": [
              "\n",
              "                <audio  controls=\"controls\" >\n",
              "                    <source src=\"data:audio/mpeg;base64,//NExAAAAANIAUAAAP8tGsc9wlzf7jyCJNr/yufh93+LD3Fo2bzDGiwmWGnzGPPPNYsFR7+r8Xjpc92/se/qhzqd///Gxg7DxP/+NIOY5n//SnrVNAu1IcmeyiZyxoJR//NExFMRkc5QAZk4AHuwA6lDfzj7lyL6adl8+sBAsvOr19GzRYVx/VorbeH0jKdKJFzupXAmBNHaIwXn52dks3XSYVHsRyWB8P3Jct9KdCvxY4cHmtr8bvQ7P7/c4Zft//NExF8gmkZcAdhgAH+mzq+bz2UcnKUjn823fl75TpyjmBiaD6FXS5QAfQ+UcfUCCgWPaN8514P6VtkIprlDiiPqvCkljs0VXdT5VWwW0V3atvOXo4jOE4A5mOKpoaxL//NExC8eYmZ8AGMSuEh0h0XGpUdcl1MaFlIhI05hOOLwZnSb56wk6bFygoUE6CrQJq5O5o3awpn2UJdXZzmzmZ/LLlUPCHzJ5sWnTeeFb0z6SkpRDF/QignsZERZj6+F//NExAgUWTKYACpScFMoCR0EbzADiI0vsa7GtonsF4fcrZTNhVA1+vTE1TUMVMZk0lkU1DVMwCBwa8upSmiUAgyDBg8CAsEVlxdLkJjI9ZxKt00PR/0Vi2ThQCZ8WL2U//NExAkS6S6gAGJMcCGtSK4GyBxpCRJh0jNIpwlCPOKY8SjtpgupizQI+CviekTi63Xb45YM7JcCPHiWZO44LIGmRYyLuiospihRro/eK0rO9alTdw6g1eQ2ajtBwJFJ//NExBAWqTKkAMYYcLCeipjSGQZzD0RWCIgNgqyydddYSBJvB4wHMqvvOicHg4EvB8L6pVek2c2aw2WX3t/uu52tRzjpI2h70mEaQDFgHcCaqMutJB58ZbP/+h1Q3/m+//NExAgT0aasAMYKlNYZIHX5vGgJcgsMg3qsgKAU527uCaRVuX/MdEkU2V+soswmplh3EEeqxDKUoiP1KKj2NMKA7JjQf1eu69lftF9La3np+ZTjlTZszC1QLVthXxOQ//NExAsU0b6oAKZKlDrb5p/CWsHLwfb5JVbwNNhji4ciQjt6llkKjpp01ivddpX34fvwMTxZvGP4k/UJC1XcBTMeVg1l0H61J6mIQrCQbrOIWQdPZdXDHLdwGHBYFd31//NExAoTeb6oANZOlNQykhr1vH13HQqj9CsMk21SQDLfiZUFDBoe5LqqPLKXev6+Q2scf+901svXR/O+32upo4Fi6Tzyz7rzafddnLIgKs5Ws3q02ooCYAIJHnnIdL7G//NExA8VGaqQAN5OlIeyuqduSVngO+bE80ttCIUnNguPypwCw0HNvLaxgJfT518fwhq///9r+if+renrbQeGpyHR0FqKtfrdWMHDjw9uxbv5UxWHMMZUoqffo1Suyu7A//NExA0PEKKUAM6wTAX56ew0faBL7KW72Y3sYNZev3CmiqR5jIta3+oxFu/+dsNUf//OrPg0QNesicR61a2HcZULgsuSBfpMowqJPAAkcY1ZIcFvJRplwSsONNUCNHQA//NExCMR+a6MAN0ElOQiPzVAul4YaTLmj9M39fT6////ndCt09Ee6INqwr////91f9Cz/6oQjOZ1DsubsFgcXuXtkd5YM4nVHK7V4QthqKY1HgIaZWKeutCXa/dO49////NExC4WuaqUAN4OlP53/9Rn3bqT8/1f/jg0oaSG573Kv0ParhGN3UJ6RPWf6y5+H6v//fFgQmm209/+oLHnkxP8rpLB5CHKexBZkowS3N5DAZZj+4kIhuPf+qtpYeB+//NExCYS0aqoANYElP1YKlnP+tnz/VG6kbp6/T1QjLEgZ1Yyu381mIGHT7v1Uf//9WTVw/V2CDDQS4n72KjwFxRbnM6QQyVtgOBtR0LBbenxx2oc6mH7jTFrFJjhnLMP//NExC0QMUqsAM4ElPys5/mV+pG0r99WkaogXBoO/mpdbnQyUBnh5kRygaCP09qeqVfRhzJFVe3KFiLlSzu6krgTC8oLoBERIX7qh5IvMfqzLnKYvRaaIp7qSgSe3+cP//NExD8RATqsAJ5UcNf+i3qom+71NsgOQ2Ub+cYkZDQX4vbpE/DCN1cZ46qsBDjEg1/YMTGZoTsacE4L87oX+v0P+a/ZfQiD7hVkqnNRCGXUvlWSwnURZ6f//7V6qrl///NExE4TATKkAM6UcPuE+CxU/ypL1hDJuBNA/coh+KoTQzZRW9X5hIpJiYud3YJjhSXYZAPN5CT/Z/Uv85vKp5EXbDmjFDiipz5SsFHfD///60NDj4qqkHe8tOQEbEhx//NExFUSyT6gANaUcIBdJEEzuhAU61oujJESCYAA2UkUVEeCGQ+pkkaJh/A2M4aGEzFlnvWbesvfE39BH4TLkIUVbzt53+7K6EEBHzm+mk8f+7//9SjqtVWa1utHRkEN//NExFwVCe6YANyKmASN3saaMoSjgmsvXDhXJkrAkQBuRXZ1D+HKHZ6iGdCfitWsUOfXzhr6jX7G+K+R9Siy+v/7G6BA5ecy9XZuHMe+r///MP+louYdlgVGTTxJ18Lk//NExFoTceaYANzEmEZ449YFgKWpF0zCGA0IzQzon2xspAiui6YhCQBE3TUcZTYQ/wL6/iHVnX9vm+j6UAlOMXI7N3///1fptf+2eATLBMcK7CgpcDVb3LmFPLqbvmUu//NExF8RwZaYANyElMr/dHopBQzhcKJyf7yp0f//nAOftnyjuXD8EAxUFgQGn3LfwwHwxKbGHHqky4PqY/aGQARPQlFAuNeYvlsrU33t9MyoisiKCaU7LOv/6spjG5nJ//NExGsRmLKkAMYETJmZmZmuTMz+7N626YvpZe5n2jdvHa9OlbalofdgQ9ff2Gc5c0j2zajUbKxfVHC+2vXniQ7CdeuEeCJEI6Max/wzjWqGFBfV2MH4D41aTsLfTcg3//NExHcdgxqgAFiYvMn///OPJHf/Icj/PX//kBPPzMzM7MzMzMzfOnO3Ngvake5m7N5nvbX6ufep9KOPuK4qNMHZ804y460oWHj6lzy5G+3uE8GJVwrPloDhgOC4kDkU//NExFQaYxqkAAhYvYfDtoM074eMnz7hbPwWPSwiJ5aeZbr/////////3L////71d7/p2ShvNQcLqbOceUqqqaSOKDw+XoPMIoqqxpUbCUIw+LVKDpJCYwKBQKxlxsJZ//NExD0Six60AABOvOGh8iNQfigIFHTlEQhVP////////8/////////p9U3rZt1roiGMjzjEZCJzPcw0oeQc0aCobGnHGkiw6NjjEOY0KGF5iigaFheMuNwhNG6CKouc//NExEURux64AAhOvEYiL///////////8t/////tbmd82c+lHRFRDnKK8pVSZhVJhqjqGFUFw+yHD5po67CIeSGENLqFziBAuFFPB7jxJBLFAtJD40aS////////+XP///NExFER8xq0AAhOvf//9beevpbetFZCNR1GRj2mHT2MRqGnnnqYQdTBtIKRPJjziIMqXCoyeXEok8qDxBOxciIS80DRIF4imCYF//////6/+7+f9pWVrbjj79mio8Yd//NExFwRcxq4AABOvX9sNGDDpXhrpr7clRgdHQwsbVyjwHxYAwAYInKKtiWUFIeyKhyDUPRZ1UqShoei1wP49/96///////zWEN/6L27f6bb9adH6t8KJmUpZmaYyOUo//NExGkReyKgABAQvGdpTO8xjOjsYG+paARkMDEoBClAXKVlRywqKKy5rF0WRQ4pvnISd9CPJcYMb///8x+Ca/7voiIVfT//f3eJXp++iEld3ehzA2ABGHFzw4GdN3dK//NExHYQ4tZ4AGhEuWlFoiH0O//fc5/EJz3hIXzocHAx6FF1kXqDABuH6LellQbhJHt5KXto1HZlWpWJT3S7e5Ki7CwIOQ0eZCnlGCjVsOBqUC3AxdiKs0ncvmS1l95i//NExIUSIs6QABBGuAuiHAnlQvgPJC+Btej7juzipQ0eLiATTdlMvHgyNTaI/ckwO4eYVHLSu1fvVRHalbTSOl4IWrx6269VhqGHNzZZ75+GecvnVjpD0HjGi4vIEwsR//NExI8h+wqYAHlYuXddgDPhH7XX9iql/KAOzKQ/Nz+ftzpKtqqgopYoPEq3inBoKTAyw6Rpa9o/j//3469RgfOEg62BQVARUBPEo3s+io9ZqLLMTInnjiqZh+WFwp9Z//NExFoSIZ6gAMlQlHKNkQtm0IGwoXzAR41dslqLtQjZ2HyMszHeDMgmslwvqCYm4c5jIfQ9HlJmZl1afodTPr5gdpQ8Rvp////8vYzO2muBI1zNLuPlFNEBWtHRkOTC//NExGQT6YqYANnalLUfCRdzo8uZGqqyFmZeeo11jHJZ40Bu1xU5HL3P84ZuxrE9kQMtCZYlI39q6+K//H/x9emN++LZlbHz9p4g+lP///1/kKGanoBISQwMhcKbcQ8O//NExGcWcZKUANNelNkOjvVjDBYaCpbsjDl9tZiRcc5c/JQSfpPOstyjtowyFOcZ+JK6SUO8bVsPpq1MOEulwxAMwjSzQdx56BRqdN7Jdbam3KEuMOExSk5rMflYjob6//NExGAZia6IANvalP//6RXsyaqW3qRdY9lLPfwVAzdq8WJX5iQVNkKMcHsq/vB+z6sipvpTLH8Fk19G88gqUI6cf1Qy3+JWj4lUrP8RmRwZl2PxZheH9+tNfF/67+M1//NExEwXCY6MANvelL/Vt/dqfcK5ZjlFC3////XVj1mmLAWZMKKncMLhJo88DhxrEpCxoBtNlpClneOo3ekVWUcL/LfT8u3snFu4yakatEy//qdbOvrHGBKOXiJDpvi3//NExEISuQ6QANwYcY7429fC64b9+mFPA3AwoaOmQ0jAgGMEBzThEwwZMOBVUyz7THWi7B1c2v5Yrdx+5lHLnNnPJ1MRQBgpiICTCUTknpyMHaCoiiLJBrgo2b+m5SUQ//NExEoR+Qp0AVswAWXLqhNWKLInADAoGwliKPKhxq0LzxRb7QBZHGzNo8C+SBNJcz8fiiS5uYmhdXSaxcWbkgeYkyXHeQ++WEuXEjqhGB4OOAgD3/mx4vrUs8OQYQ8k//NExFUhgwKEAZpoATwJATv/p3TU63koPQJGJmkpMvof/oJrdqevNS0vkw0Ony4m5ob///2//MGcuKCIAlmL5RolSBTruzpVFPMkSKjRew3tCYSR5v/z7j+fvc3R+wcG//NExCIUMaagAdlAAfuf6K3IvUDQ8EYkJAkDY6zzdiJhh4+NKayxcoSCgpX19VX1P1X1PzXoO/vp0ysJ/LZI5Z+VwhWX4mIFUqA1r8ThIeVk8cesyesr60N/Ebfw83+3//NExCQQKS6oAMUecMfbYXweVMTPvt5vGM23ilv4cka7huKw8X2XRFyyRaE+CjJqCBwopkSIEVAG3C3mgr5PPKYq6zpaZjptse0ZqG7i6oWCc8iPAXWcvL7k1Mpc0ZZZ//NExDYRQTqoAJUOcCudZddbcxqTn/6f///o6KDmJKsTP6xLA5E5BEsJKQdnHuKaLBUM6NpOsbDTpINOGvPaim86XFMcDWbnJLUJatazRq1Nl3UeWiiXT6i9f1SyFHi3//NExEQSmT6gAM0acF2/////8jW/RXkJwLvkczIRNmNwMKImtglBPUqwNvCZXa2/fvwJ+9wJ+qY3vhPuSqqOh6GCBsO5M+06i9tOj6r6+L4dsceSbf/5YeqGZTHCoRNj//NExEwRGUKcAM5WcAEBj+kggNXAAY3r/GR6JeO/WUdVsafYiMAX+Y02NJhDU/vqWK9KmLx4eASXFp06bpFtP72aS3G1T7pgyHbaP+sx2U1jGoCHAsxzLBwW0hAsxJZO//NExFoSaPKIANZYcOXdQtykBJoKkhZoaZNzP7UNQ//9+Wfullq++p5jyMp6o/1T55RKi6p//9/7dt3DzXL////////+tUA72SxcZohccWCsUWWEChtW8i4nzKmQIL+E//NExGMSIT6AAN4McNwE0BLquHWb/WGvc9LjKq9D2HA8IY9KKeZ7+YJu27t//huMoTjnI//WR+//////ji/rHnJKoGEEgNOgBlYwBhINGYTEHPSBqIeJ8lmiAxALSC1q//NExG0SgTp0ANvQcE3X6bWiuN2d5BQpIIUeiI7KF3lF1VHr92Ukw2S//qyH6P///+JVRshqLoQnH/BpZopWmUCQEzS5NkD15HSYxDE4ywhvoTm8Ckub3nrGvHLp7FVC//NExHYSIUJsAOPEcJNhEM7rsyHB8qx/ThZEoIQnf/4Ff/V////6VQr0sw04RJNiTkd1XoEC0Y0rl0wh3ZNKX9f2FXYl+dXla6sQ8xtJH2LW3JvOHUFEFweck/qDhZ9T//NExIAR0TJgANvGcH/sEJP2pu///9yOs4NVQ2hIaEbCPlZKvFk0tuVXffmI2d0lQQBHTtpiRcGlE0ZNhGwQDg5VxyxnI4sLiMxo8cPpLGS8wqiKwoUSzbc/HV2kCgiB//NExIsRUPJcAVgYAOGw9N33Kq3xHPkGClOXLdreqJcr36RE2/b4ue4uXI20hxirEyUcakLdv+1LU4zSUm/DgwFgiXAKAgBoDQwcAoHieOocqVoaZoiIzMtkm0rmrPQs//NExJghaypIAZpAABNLTyWJdbVurYLey6m9dkraKoWasxJvZri6F7Wea+tZrRqWeaeS+tiatruWx72et+13qZ9eyOz2u5Hfp6tp2kruzdraOG+dS085Me/tae+hz9f+//NExGUiMyJ8AclgAOzfIHYFihil4aRxNe2hnRw4cwodis46eJIBeT1aAZlo5Jdufg6Ct/Jf/17O6aZU8yEZ9qdNu7v7OiMxRJ2f//9b+tf+39KbkzX43jPpuTdPn41i//NExC8cQyaIACievL/in+tv8V+84ve/3itMQ59SVpI4SQVfmO4Q2Ks0sd6yL5zsCnvh4wbUdHrmzmnZMIxWbYTUZ2IwTfPA/xJ7E4Qzxwv+W3/ri//5z8cv6L/+R//6//NExBEU+yKYABBWvPv//v4j75/t/F19fLIv+e4lszHf8xsvlmpxFys6Hsk8pbjxc65NzZo+JFA9ksdxWcHULIoEYkG6RAgbMwyECO0STaEN/9v/Mjqf/B0un95f//X///NExBAVux6cABBWvf/xf3//807bP/2z+f7bc7uqa+pa10V3W6jSWtcaoSkaHGdzfsa+oOqMQJSJKIUYECPLS0d5PGKIJQJmPZINxBgQKh/EGcgeDf+n///9cv8/L/////NExAwRyxqgABBOvf///b/9LG6poe9Wm3Q/djtnq10zjziI1ocz2PecrFi0eKkSKgDioLEAeKMjxyiONBQLSQQDcuOCSN3j1QL////////3///yM////901/teb9aXa//NExBcRyyKgAChOvGno90qbW03QeMdXdlNU1o4g4OIYxpAWjpA000hLjojGlyw0NBwNx4bAWBASRcFBYqod////6/+X+XLP//5y//////t9n1uYmu6urXcxEJnpPRSC//NExCISexqcABBOvVHRSBp5tUHSjETRYTEcbiUglyMYBESQwJyA6EoWCEGAkMBogKhWNBMI3+rf///yf5c/1//8kv///2p9JtL77KyPndnWc8xzKvdUY1Sg6alXZjJY//NExCsSiyKcABBOvH2ophgQixEBcLgfg8GooNEhyx5YenqROGgqQSgXiWaqA//p/////53j///////+37/66u1Xtn0Q995rn2Va7q5yqcQGIekop5iuhinKTERxOPS4//NExDMRUxqcAChUveA2kQnBiNAakJyUmUhFicxxVaoOX/W9f+n/70/v+n//v7///v6/ptNvVKt//bREpS8x2n6GoTHJNR1VjWMONJDyI2UKkQgiIL0BUG0iHSJELMQg//NExEAQcwaUAUdQARuSBDLgBi+cqBNKRu8I59vpol8ySMvcpkqcKSJd8lzAxJU6iYmJqr543NjBEnrOHzIxLv51BjJOcUlU//QWYnCaeJhro1F5aKKv+xueMScXSa6J//NExFEgUupkAYtoAAnJi0EUVMXitZqsy//IYbxoTw5paFgDaD2AKwX0aiYJHNiaZGzmJUSYnw9xMVD2JapTI1my2kcqNkOJYBBIXFUWzILAsARUVI1sgI6BSKwyoCkS//NExCIQUFn4AcMYAKAYFrAsCsCmBc1HqFhbd4s8WfOpcy15JzGpOtTYnJLqAgaLbBqZXdoqqHLelpl/0RKqUlpLQtTsGhqor//rUzNyoiYlX//1u0LU7BqVSWilSyWn//NExDMSgA2wABhGAUVlVrVJXf+ktNC1lSUqKpYpdan/7sGnTEFNRTMuMTAwqqqqqqqqqqqqqqqqqqqqqqqqqqqqqqqqqqqqqqqqqqqqqqqqqqqqqqqqqqqq92dncpmd//NExDwAAANIAAAAAJ2HHKKGHGFjDjjDjOx2d2dnZ/9nZnK7OzsxiuMOMOMMKGHGHIdmdnZyOzO3/Z2dncpmdhxhxxI4w4wth3Z2ch2d2dn/2dnZjFdnZxhjCRxhxA4w//NExI8AAANIAAAAAMOMOZDJg0aNeiobQiOkPAI5YTARjwBIRD4BAQHpDACOWEBiMeARyI+AjHB+BEPjtCA9OeARyw+AjPA4BEPgJBAfgQAI7QgARngGBEfARmB8AiOj//NExKwAAANIAAAAAKQQHoywBHLjwBGeHwCI+opoViTFQmxQLkVFQWBoLkSCorAwKSmhWRUVCaGguRUbFYGg2JoVFbFQkpoLkVBYqI4FxJDYrBoViSGQmxQVkcC5FBsV//NExP8YkrzwABCEuIGhWJIbGbFBWJUFhNiwVEcC1UxBTUUzLjEwMFVVVVVVVVVVVVVVVVVVVVVVVVVVVVVVVVVVVVVVVVVVVVVVVVVVVVVVVVVVVVVVVVVVTEFNRTMu//NExO8V4AXIAAjGATEwMFVVVVVVVVVVVVVVVVVVVVVVVVVVVVVVVVVVVVVVVVVVVVVVVVVVVVVVVVVVVVVVVVVVVVVVVVVVVVVVVVVVVVVVVVVVVVVVVVVVVVVVVVVV//NExOoVSAHAAAjGAVVVVVVVVVVVVVVVVVVVVVVVVVVVVVVVVVVVVVVVVVVVVVVVVVVVVVVVVVVVVVVVVVVVVVVVVVVVVVVVVVVVVVVVVVVVVVVVVVVVVVVVVVVVVVVV//NExKwAAANIAAAAAFVVVVVVVVVVVVVVVVVVVVVVVVVVVVVVVVVVVVVVVVVVVVVVVVVVVVVVVVVVVVVVVVVVVVVVVVVVVVVVVVVVVVVVVVVVVVVVVVVVVVVVVVVVVVVV\" type=\"audio/mpeg\" />\n",
              "                    Your browser does not support the audio element.\n",
              "                </audio>\n",
              "              "
            ]
          },
          "metadata": {},
          "execution_count": 2
        }
      ]
    },
    {
      "cell_type": "markdown",
      "source": [
        "#2강"
      ],
      "metadata": {
        "id": "Gz-Xiev74FYD"
      }
    },
    {
      "cell_type": "code",
      "source": [
        "x = 10\n",
        "y = \"Hello, class!\"\n",
        "z = [1, 2, 3]"
      ],
      "metadata": {
        "id": "x2nA_8y13xy9"
      },
      "execution_count": 4,
      "outputs": []
    },
    {
      "cell_type": "code",
      "source": [
        "x1 = x * 10\n",
        "x2 = x + 5\n",
        "\n",
        "print(x1, x2)"
      ],
      "metadata": {
        "id": "MvWvgU-Y3vE2",
        "outputId": "4207f015-1354-46eb-82a6-f6b832bba2c5",
        "colab": {
          "base_uri": "https://localhost:8080/"
        }
      },
      "execution_count": 5,
      "outputs": [
        {
          "output_type": "stream",
          "name": "stdout",
          "text": [
            "100 15\n"
          ]
        }
      ]
    },
    {
      "cell_type": "code",
      "source": [
        "y1 = y + \"Welcome to the class.\"\n",
        "z1 = z + [3,2,1]\n",
        "\n",
        "print(y1, z1)"
      ],
      "metadata": {
        "id": "UAqzopk73-Sd",
        "outputId": "a579d7e2-9ac0-42b3-a979-2f73ea641d0d",
        "colab": {
          "base_uri": "https://localhost:8080/"
        }
      },
      "execution_count": 6,
      "outputs": [
        {
          "output_type": "stream",
          "name": "stdout",
          "text": [
            "Hello, class!Welcome to the class. [1, 2, 3, 3, 2, 1]\n"
          ]
        }
      ]
    },
    {
      "cell_type": "markdown",
      "source": [
        "#사칙연산"
      ],
      "metadata": {
        "id": "LJy3kvou4ZVy"
      }
    },
    {
      "cell_type": "code",
      "source": [
        "x = 2; y = 5\n",
        "\n",
        "a1 = x + y\n",
        "a2 = x - y\n",
        "a3 = x * y\n",
        "a4 = x / y\n",
        "a5 = x ** y"
      ],
      "metadata": {
        "id": "dXT3pIzobUHU"
      },
      "execution_count": 8,
      "outputs": []
    },
    {
      "cell_type": "code",
      "source": [
        "print(a1, a2, a3, a4, a5)"
      ],
      "metadata": {
        "id": "47A1h_i64UFq",
        "outputId": "d87c6e3a-a274-4996-8646-b887027729d1",
        "colab": {
          "base_uri": "https://localhost:8080/"
        }
      },
      "execution_count": 9,
      "outputs": [
        {
          "output_type": "stream",
          "name": "stdout",
          "text": [
            "7 -3 10 0.4 32\n"
          ]
        }
      ]
    },
    {
      "cell_type": "markdown",
      "source": [
        "# 사칙연산 코드를 쓰기위한 기본적으로 깔것"
      ],
      "metadata": {
        "id": "CCattAvW4u8u"
      }
    },
    {
      "cell_type": "code",
      "source": [
        "# This function adds two numbers\n",
        "def add(x, y):\n",
        "    return x + y\n",
        "\n",
        "# This function subtracts two numbers\n",
        "def subtract(x, y):\n",
        "    return x - y\n",
        "\n",
        "# This function multiplies two numbers\n",
        "def multiply(x, y):\n",
        "    return x * y\n",
        "\n",
        "# This function divides two numbers\n",
        "def divide(x, y):\n",
        "    return x / y\n"
      ],
      "metadata": {
        "id": "Dod3_zgYdsWe"
      },
      "execution_count": 11,
      "outputs": []
    },
    {
      "cell_type": "code",
      "source": [
        "# Test\n",
        "\n",
        "add(2,3)\n",
        "subtract(3,2)\n",
        "multiply(2,3)\n",
        "divide(3,2)\n",
        "\n"
      ],
      "metadata": {
        "colab": {
          "base_uri": "https://localhost:8080/"
        },
        "id": "IoHh-U2GBsqH",
        "outputId": "a0fe255b-590f-4e3a-af6e-29af481a73bc"
      },
      "execution_count": 16,
      "outputs": [
        {
          "output_type": "execute_result",
          "data": {
            "text/plain": [
              "1.5"
            ]
          },
          "metadata": {},
          "execution_count": 16
        }
      ]
    },
    {
      "cell_type": "markdown",
      "source": [
        "# 3강 int str의 차이 ''사이에 들어가면 str"
      ],
      "metadata": {
        "id": "19I16j995U_4"
      }
    },
    {
      "cell_type": "code",
      "source": [
        "# DIY\n",
        "x = 1\n",
        "y = 3\n",
        "z = x + y\n",
        "print(z)\n",
        "\n",
        "x1 = \"1\"\n",
        "y1 = \"3\"\n",
        "z1 = x1 + y1\n",
        "print(z1)"
      ],
      "metadata": {
        "id": "jbd09z725Nol",
        "outputId": "639287de-9f9c-442e-96f7-f0091482caed",
        "colab": {
          "base_uri": "https://localhost:8080/"
        }
      },
      "execution_count": 17,
      "outputs": [
        {
          "output_type": "stream",
          "name": "stdout",
          "text": [
            "4\n",
            "13\n"
          ]
        }
      ]
    },
    {
      "cell_type": "code",
      "source": [
        "type(z)"
      ],
      "metadata": {
        "id": "DiAT5tJw5O7C",
        "outputId": "4ef5275b-d718-48ac-fc5c-26720c8423da",
        "colab": {
          "base_uri": "https://localhost:8080/"
        }
      },
      "execution_count": 18,
      "outputs": [
        {
          "output_type": "execute_result",
          "data": {
            "text/plain": [
              "int"
            ]
          },
          "metadata": {},
          "execution_count": 18
        }
      ]
    },
    {
      "cell_type": "code",
      "source": [
        "type(z1)"
      ],
      "metadata": {
        "id": "SzYsbf8a5Ryz",
        "outputId": "0c29a5d7-5f29-4a5d-c349-55fd9345aa2b",
        "colab": {
          "base_uri": "https://localhost:8080/"
        }
      },
      "execution_count": 19,
      "outputs": [
        {
          "output_type": "execute_result",
          "data": {
            "text/plain": [
              "str"
            ]
          },
          "metadata": {},
          "execution_count": 19
        }
      ]
    },
    {
      "cell_type": "code",
      "source": [
        "a = ['1', 'Mary','4', \"John\"]  # This is a list.\n",
        "print(type(a))\n",
        "# a+a"
      ],
      "metadata": {
        "id": "N3dA7EGc56uf",
        "outputId": "72b7af4a-df23-43f4-9c26-8f090825f790",
        "colab": {
          "base_uri": "https://localhost:8080/"
        }
      },
      "execution_count": 25,
      "outputs": [
        {
          "output_type": "stream",
          "name": "stdout",
          "text": [
            "<class 'list'>\n"
          ]
        }
      ]
    },
    {
      "cell_type": "code",
      "source": [
        "a[0]\n",
        "type(a[0])\n",
        "type(a[1])\n",
        "a[0] + a[2]\n",
        "a[0] + a[1] # int + str = error"
      ],
      "metadata": {
        "id": "SxjcQHu_594o",
        "outputId": "346abe67-4eee-4bba-9f81-719d1ca4ab93",
        "colab": {
          "base_uri": "https://localhost:8080/",
          "height": 36
        }
      },
      "execution_count": 26,
      "outputs": [
        {
          "output_type": "execute_result",
          "data": {
            "text/plain": [
              "'1Mary'"
            ],
            "application/vnd.google.colaboratory.intrinsic+json": {
              "type": "string"
            }
          },
          "metadata": {},
          "execution_count": 26
        }
      ]
    },
    {
      "cell_type": "markdown",
      "source": [
        "# 4강 input, random"
      ],
      "metadata": {
        "id": "9MOtUBZT6nnC"
      }
    },
    {
      "cell_type": "code",
      "source": [
        "import random #(이걸 사용해줘야 random.randint이 돌아가나봄)"
      ],
      "metadata": {
        "id": "Qgwh2QBw6lMP"
      },
      "execution_count": 30,
      "outputs": []
    },
    {
      "cell_type": "code",
      "source": [
        "random.randint(1, 10) #random.randint(x,y)는 함수이므로 문법대로 사용해야 함."
      ],
      "metadata": {
        "id": "L-jcPasr6w_h",
        "outputId": "ec5e8e3e-1297-4c87-a474-36f4b156ac3d",
        "colab": {
          "base_uri": "https://localhost:8080/"
        }
      },
      "execution_count": 29,
      "outputs": [
        {
          "output_type": "execute_result",
          "data": {
            "text/plain": [
              "10"
            ]
          },
          "metadata": {},
          "execution_count": 29
        }
      ]
    },
    {
      "cell_type": "code",
      "source": [
        "a2 = \"Welcome\"\n",
        "a3 = \"2023\""
      ],
      "metadata": {
        "id": "RXGTFkno7Csh"
      },
      "execution_count": 31,
      "outputs": []
    },
    {
      "cell_type": "code",
      "source": [
        "a2+','+ a3+'!'"
      ],
      "metadata": {
        "id": "_YvApFiG7DW7",
        "outputId": "b8c87225-807d-4057-9d08-372eb958928b",
        "colab": {
          "base_uri": "https://localhost:8080/",
          "height": 36
        }
      },
      "execution_count": 34,
      "outputs": [
        {
          "output_type": "execute_result",
          "data": {
            "text/plain": [
              "'Welcome,2023!'"
            ],
            "application/vnd.google.colaboratory.intrinsic+json": {
              "type": "string"
            }
          },
          "metadata": {},
          "execution_count": 34
        }
      ]
    },
    {
      "cell_type": "code",
      "source": [
        "a4= '화이팅!'\n",
        "a4*10 #str을 10번 곱하면 이렇게 반복됨 즉 숫자도 ''안에 넣는다면 str이 됨"
      ],
      "metadata": {
        "id": "yDQi2McB7Oj5",
        "outputId": "42dbdaa5-870c-4d1d-dbbb-b048a2e35184",
        "colab": {
          "base_uri": "https://localhost:8080/",
          "height": 36
        }
      },
      "execution_count": 36,
      "outputs": [
        {
          "output_type": "execute_result",
          "data": {
            "text/plain": [
              "'화이팅!화이팅!화이팅!화이팅!화이팅!화이팅!화이팅!화이팅!화이팅!화이팅!'"
            ],
            "application/vnd.google.colaboratory.intrinsic+json": {
              "type": "string"
            }
          },
          "metadata": {},
          "execution_count": 36
        }
      ]
    },
    {
      "cell_type": "markdown",
      "source": [
        "# range는 그 범위를 설정 맨 뒤에꺼 제외, list는 그것을 정열해주는것"
      ],
      "metadata": {
        "id": "MFoI31R58Y-P"
      }
    },
    {
      "cell_type": "code",
      "source": [
        "# range(x,y)\n",
        "x3 = range(1,10)\n",
        "list(x3)  #list(), range(1,10)"
      ],
      "metadata": {
        "id": "Z_IHCxO47t_V",
        "outputId": "94101832-8454-4855-d094-721f26b5ca2c",
        "colab": {
          "base_uri": "https://localhost:8080/"
        }
      },
      "execution_count": 38,
      "outputs": [
        {
          "output_type": "execute_result",
          "data": {
            "text/plain": [
              "[1, 2, 3, 4, 5, 6, 7, 8, 9]"
            ]
          },
          "metadata": {},
          "execution_count": 38
        }
      ]
    },
    {
      "cell_type": "code",
      "source": [
        "x4 = \"John\"\n",
        "list(x4) #str을 list화 시키면 이렇게 자동으로 나열해"
      ],
      "metadata": {
        "id": "TPWzkvub7xSJ",
        "outputId": "d414a471-e45d-497a-d6af-674f014886c7",
        "colab": {
          "base_uri": "https://localhost:8080/"
        }
      },
      "execution_count": 39,
      "outputs": [
        {
          "output_type": "execute_result",
          "data": {
            "text/plain": [
              "['J', 'o', 'h', 'n']"
            ]
          },
          "metadata": {},
          "execution_count": 39
        }
      ]
    },
    {
      "cell_type": "markdown",
      "source": [
        "각각의 단어는 :로 뜻을 설명해주고 다른 단어와는  , 로 나뉨"
      ],
      "metadata": {
        "id": "yeDIW5kL78Of"
      }
    },
    {
      "cell_type": "code",
      "source": [
        "mydict = {\"API\":\"Application Programming Interface\", \"GPT\":\"Generative Pretrained Transformer\"} #{}를 쓴다는게 중요\n",
        "mydict['API']"
      ],
      "metadata": {
        "id": "EYWuB8MR7-MF",
        "outputId": "b162bd09-4fca-4268-8db4-c1f60d628f77",
        "colab": {
          "base_uri": "https://localhost:8080/",
          "height": 36
        }
      },
      "execution_count": 40,
      "outputs": [
        {
          "output_type": "execute_result",
          "data": {
            "text/plain": [
              "'Application Programming Interface'"
            ],
            "application/vnd.google.colaboratory.intrinsic+json": {
              "type": "string"
            }
          },
          "metadata": {},
          "execution_count": 40
        }
      ]
    },
    {
      "cell_type": "code",
      "source": [
        "class_size = {\"Class A\": 25, \"Class B\": 30, \"Class C\": 32}\n",
        "class_size['Class C']"
      ],
      "metadata": {
        "id": "4rBr458R8G1l",
        "outputId": "7ba7437b-85b9-4a37-cd03-9ed2ff06a7fd",
        "colab": {
          "base_uri": "https://localhost:8080/"
        }
      },
      "execution_count": 41,
      "outputs": [
        {
          "output_type": "execute_result",
          "data": {
            "text/plain": [
              "32"
            ]
          },
          "metadata": {},
          "execution_count": 41
        }
      ]
    },
    {
      "cell_type": "code",
      "source": [
        "yournumber = input(4)  # input()은 쓰게끔 만드는 거. 안에다가 아무거 넣어도 됨 글자를 넣을땐'' 사이에 넣\n",
        "yournumber"
      ],
      "metadata": {
        "id": "qr1lLhR58Ro_",
        "outputId": "d5c8006a-00ec-460c-e581-f39b4c5b3ee1",
        "colab": {
          "base_uri": "https://localhost:8080/",
          "height": 54
        }
      },
      "execution_count": 54,
      "outputs": [
        {
          "name": "stdout",
          "output_type": "stream",
          "text": [
            "4ㅇ\n"
          ]
        },
        {
          "output_type": "execute_result",
          "data": {
            "text/plain": [
              "'ㅇ'"
            ],
            "application/vnd.google.colaboratory.intrinsic+json": {
              "type": "string"
            }
          },
          "metadata": {},
          "execution_count": 54
        }
      ]
    },
    {
      "cell_type": "code",
      "source": [
        "yournumber = int(yournumber) # str을 int로 바꾸는 과정 그 반대는 불가능 int str으로 바꾸러면 '' 사이에 넣기\n",
        "type(yournumber)"
      ],
      "metadata": {
        "id": "SppvvP288oY_",
        "outputId": "7162fb1f-30f5-4df3-f5e9-4169dd9ada6d",
        "colab": {
          "base_uri": "https://localhost:8080/"
        }
      },
      "execution_count": 43,
      "outputs": [
        {
          "output_type": "execute_result",
          "data": {
            "text/plain": [
              "int"
            ]
          },
          "metadata": {},
          "execution_count": 43
        }
      ]
    },
    {
      "cell_type": "code",
      "source": [
        "# print() 함수는 그것을 표현시켜줌 원래는 맨 마지막꺼만 보이는데 이거는 다 보여줌\n",
        "print(\"대한민국\")\n",
        "\n",
        "a2 = \"화이팅!\"  # a1: variable(변수)\n",
        "print(a2)\n",
        "print(a2*10)\n",
        "print(\"화이팅 10번 합시다: \", a2*10)\n",
        "a2"
      ],
      "metadata": {
        "id": "8rTnyfqG9Cah",
        "outputId": "f3520e27-1f8d-4acc-c60b-1ff623b5a5a3",
        "colab": {
          "base_uri": "https://localhost:8080/",
          "height": 110
        }
      },
      "execution_count": 49,
      "outputs": [
        {
          "output_type": "stream",
          "name": "stdout",
          "text": [
            "대한민국\n",
            "화이팅!\n",
            "화이팅!화이팅!화이팅!화이팅!화이팅!화이팅!화이팅!화이팅!화이팅!화이팅!\n",
            "화이팅 10번 합시다:  화이팅!화이팅!화이팅!화이팅!화이팅!화이팅!화이팅!화이팅!화이팅!화이팅!\n"
          ]
        },
        {
          "output_type": "execute_result",
          "data": {
            "text/plain": [
              "'화이팅!'"
            ],
            "application/vnd.google.colaboratory.intrinsic+json": {
              "type": "string"
            }
          },
          "metadata": {},
          "execution_count": 49
        }
      ]
    },
    {
      "cell_type": "markdown",
      "source": [
        "# 입력하는건 str이기에 int로 바꿔주는 밑에 과정이 필요함"
      ],
      "metadata": {
        "id": "446XASGLAMKq"
      }
    },
    {
      "cell_type": "code",
      "source": [
        "day = input('How many days?'+'    ')\n",
        "day = int(day)\n",
        "hours = 24*day\n",
        "print(\"The total hours passed since Mary met John are: \", hours, \"hours.\")"
      ],
      "metadata": {
        "id": "RrrWHhGZ_EMq",
        "outputId": "3d010bb6-3859-44b0-f0f9-9a9b9011bdbd",
        "colab": {
          "base_uri": "https://localhost:8080/"
        }
      },
      "execution_count": 98,
      "outputs": [
        {
          "output_type": "stream",
          "name": "stdout",
          "text": [
            "How many days?    25\n",
            "The total hours passed since Mary met John are:  600 hours.\n"
          ]
        }
      ]
    },
    {
      "cell_type": "markdown",
      "source": [
        "# .strip(공백 없애줌)"
      ],
      "metadata": {
        "id": "dIw2ZJnPAaZi"
      }
    },
    {
      "cell_type": "code",
      "source": [
        "w1 = \" Mary is friendly. \"\n",
        "w1\n",
        "w1.strip()"
      ],
      "metadata": {
        "id": "zS957GJDAZwS",
        "outputId": "0dd58f7d-95c7-4704-ccfc-ed63306221da",
        "colab": {
          "base_uri": "https://localhost:8080/",
          "height": 36
        }
      },
      "execution_count": 63,
      "outputs": [
        {
          "output_type": "execute_result",
          "data": {
            "text/plain": [
              "'Mary is friendly.'"
            ],
            "application/vnd.google.colaboratory.intrinsic+json": {
              "type": "string"
            }
          },
          "metadata": {},
          "execution_count": 63
        }
      ]
    },
    {
      "cell_type": "markdown",
      "source": [
        "# .split는 나눠주기"
      ],
      "metadata": {
        "id": "kpUeU-z9ApaP"
      }
    },
    {
      "cell_type": "code",
      "source": [
        "w1 = \"Mary is friendly.\"\n",
        "print(w1.split())\n",
        "w2 = \"out-of-date\"\n",
        "w2.split('-')"
      ],
      "metadata": {
        "id": "NyFyZ11J_Osu",
        "outputId": "f1687c20-9c4d-41fb-8c01-1edfe08ebd4e",
        "colab": {
          "base_uri": "https://localhost:8080/"
        }
      },
      "execution_count": 65,
      "outputs": [
        {
          "output_type": "stream",
          "name": "stdout",
          "text": [
            "['Mary', 'is', 'friendly.']\n"
          ]
        },
        {
          "output_type": "execute_result",
          "data": {
            "text/plain": [
              "['out', 'of', 'date']"
            ]
          },
          "metadata": {},
          "execution_count": 65
        }
      ]
    },
    {
      "cell_type": "code",
      "source": [
        "w1 = \"Mary\"\n",
        "w2 = \"is\"\n",
        "w3 = \"friendly\"\n",
        "wordlist = [w1, w2, w3]\n",
        "wordlist #굳이 wordlist라 안하고 a라고 해도 가능 a[0] 하면 mary가 나옴"
      ],
      "metadata": {
        "id": "YEY-V32PA5K6",
        "outputId": "dfe87989-9171-41e5-e96c-75338271aa09",
        "colab": {
          "base_uri": "https://localhost:8080/"
        }
      },
      "execution_count": 70,
      "outputs": [
        {
          "output_type": "execute_result",
          "data": {
            "text/plain": [
              "['Mary', 'is', 'friendly']"
            ]
          },
          "metadata": {},
          "execution_count": 70
        }
      ]
    },
    {
      "cell_type": "markdown",
      "source": [
        ".join()는 합치기"
      ],
      "metadata": {
        "id": "9kOT4uUPBYc2"
      }
    },
    {
      "cell_type": "code",
      "source": [
        "print(' '.join(wordlist))\n",
        "print('-'.join(wordlist))\n",
        "print(' '.join(wordlist))"
      ],
      "metadata": {
        "id": "kcXzAvPJBhiy",
        "outputId": "839b8754-b5d2-416d-e6a8-1bbbc4d56180",
        "colab": {
          "base_uri": "https://localhost:8080/"
        }
      },
      "execution_count": 72,
      "outputs": [
        {
          "output_type": "stream",
          "name": "stdout",
          "text": [
            "Mary is friendly\n",
            "Mary-is-friendly\n",
            "Mary is friendly\n"
          ]
        }
      ]
    },
    {
      "cell_type": "markdown",
      "source": [
        ".lower()   .upper() 는 소문자 대문자 len()는 길이"
      ],
      "metadata": {
        "id": "v0TgblkBBze8"
      }
    },
    {
      "cell_type": "code",
      "source": [
        "w = \"mary\"\n",
        "ini = w.upper()\n",
        "print(ini)\n",
        "a= 'JOHN'\n",
        "b= a.lower()\n",
        "b"
      ],
      "metadata": {
        "id": "vvJ-oEaxmP9m",
        "outputId": "68c67126-a664-41b8-c3a7-4d1b9e6ed128",
        "colab": {
          "base_uri": "https://localhost:8080/",
          "height": 54
        }
      },
      "execution_count": 181,
      "outputs": [
        {
          "output_type": "stream",
          "name": "stdout",
          "text": [
            "MARY\n"
          ]
        },
        {
          "output_type": "execute_result",
          "data": {
            "text/plain": [
              "'john'"
            ],
            "application/vnd.google.colaboratory.intrinsic+json": {
              "type": "string"
            }
          },
          "metadata": {},
          "execution_count": 181
        }
      ]
    },
    {
      "cell_type": "code",
      "source": [
        "print(len(w1)) #number of string W1는 mary이다.\n",
        "w1[0] #1st string 이런것도 가능 Mary의 첫글자인 M"
      ],
      "metadata": {
        "id": "4sbkICn8CIrh",
        "outputId": "5812664c-23ee-46e9-a5db-a6f70b96f41f",
        "colab": {
          "base_uri": "https://localhost:8080/",
          "height": 54
        }
      },
      "execution_count": 74,
      "outputs": [
        {
          "output_type": "stream",
          "name": "stdout",
          "text": [
            "4\n"
          ]
        },
        {
          "output_type": "execute_result",
          "data": {
            "text/plain": [
              "'M'"
            ],
            "application/vnd.google.colaboratory.intrinsic+json": {
              "type": "string"
            }
          },
          "metadata": {},
          "execution_count": 74
        }
      ]
    },
    {
      "cell_type": "code",
      "source": [
        "print(w1[-1]) # -1은 뒤에서부터\n",
        "print(w1[0:])  # 0:는 0부터 끝까지\n",
        "w1[1:3]\n"
      ],
      "metadata": {
        "id": "3WLHU6xiCeOE",
        "outputId": "e001ff63-d096-4bb5-fe01-56fe55fd2826",
        "colab": {
          "base_uri": "https://localhost:8080/",
          "height": 73
        }
      },
      "execution_count": 76,
      "outputs": [
        {
          "output_type": "stream",
          "name": "stdout",
          "text": [
            "y\n",
            "Mary\n"
          ]
        },
        {
          "output_type": "execute_result",
          "data": {
            "text/plain": [
              "'ar'"
            ],
            "application/vnd.google.colaboratory.intrinsic+json": {
              "type": "string"
            }
          },
          "metadata": {},
          "execution_count": 76
        }
      ]
    },
    {
      "cell_type": "markdown",
      "source": [
        "# 복합응용"
      ],
      "metadata": {
        "id": "5iEJiaIHC9Sb"
      }
    },
    {
      "cell_type": "code",
      "source": [
        "w = \"mary\"\n",
        "ini = w.upper()\n",
        "ini"
      ],
      "metadata": {
        "id": "6V7GtEmumIog",
        "outputId": "fcac9d12-be1e-4c7b-dd21-7ebd4fc88c92",
        "colab": {
          "base_uri": "https://localhost:8080/",
          "height": 36
        }
      },
      "execution_count": 176,
      "outputs": [
        {
          "output_type": "execute_result",
          "data": {
            "text/plain": [
              "'MARY'"
            ],
            "application/vnd.google.colaboratory.intrinsic+json": {
              "type": "string"
            }
          },
          "metadata": {},
          "execution_count": 176
        }
      ]
    },
    {
      "cell_type": "code",
      "source": [
        "w = \"mary\"\n",
        "ini = w[0].upper() # m만 대문자화 시키는 과정\n",
        "ini\n",
        "w = ini + w[1:]\n",
        "print(w)"
      ],
      "metadata": {
        "id": "43ODKRZBC88S",
        "outputId": "f8e073c4-b52c-41a6-dbf9-633045af17f4",
        "colab": {
          "base_uri": "https://localhost:8080/"
        }
      },
      "execution_count": 77,
      "outputs": [
        {
          "output_type": "stream",
          "name": "stdout",
          "text": [
            "Mary\n"
          ]
        }
      ]
    },
    {
      "cell_type": "code",
      "source": [
        "w = \"Mary is friendly.\"\n",
        "a=w.split()\n",
        "w1=a[0]\n",
        "w2=a[1]\n",
        "w3=a[2]\n",
        "x=w2[0].upper()+w2[1:]\n",
        "s= x+\" \"+w1+\" \"+w3\n",
        "s1= s[:-1] # , 마침표를 없애는 과정\n",
        "s2=s1+\"?\"\n",
        "print(s2)"
      ],
      "metadata": {
        "id": "UntZLgfKA8aq",
        "outputId": "6e06b3f6-4a84-4896-eb4a-780ec230decd",
        "colab": {
          "base_uri": "https://localhost:8080/"
        }
      },
      "execution_count": 96,
      "outputs": [
        {
          "output_type": "stream",
          "name": "stdout",
          "text": [
            "Is Mary friendly?\n"
          ]
        }
      ]
    },
    {
      "cell_type": "markdown",
      "source": [
        "#For loops,  append(괄호 붙이기)"
      ],
      "metadata": {
        "id": "C_AhSkCET787"
      }
    },
    {
      "cell_type": "code",
      "source": [
        "# Define a list of numbers\n",
        "numbers = [1, 2, 3, 4, 5]\n",
        "\n",
        "#list를 축약시켜서 좀 더 단순하게 연산하는법\n",
        "for i in numbers:\n",
        "    # Print the square of each number\n",
        "    print(i ** 2)"
      ],
      "metadata": {
        "id": "e1TDwmWqT2Uz",
        "outputId": "48d05452-7797-41fb-d7c0-06e26871f536",
        "colab": {
          "base_uri": "https://localhost:8080/"
        }
      },
      "execution_count": 102,
      "outputs": [
        {
          "output_type": "stream",
          "name": "stdout",
          "text": [
            "1\n",
            "4\n",
            "9\n",
            "16\n",
            "25\n"
          ]
        }
      ]
    },
    {
      "cell_type": "code",
      "source": [
        "numbers = [1,2,3,4,5]\n",
        "a = []  #[] append와 같이 쓰려면 [] 가능한듯 하나의 형태인듯하다.\n",
        "\n",
        "for i in numbers:\n",
        "  s = i ** 2\n",
        "  a.append(s) #이게 중요 이 함수를 꼭 써줘야\n",
        "\n",
        "print(a)"
      ],
      "metadata": {
        "id": "ZAxwBVqrUbIf",
        "outputId": "61ad962e-86ae-4c14-b05b-7806b91006ab",
        "colab": {
          "base_uri": "https://localhost:8080/"
        }
      },
      "execution_count": 91,
      "outputs": [
        {
          "output_type": "stream",
          "name": "stdout",
          "text": [
            "[1, 4, 9, 16, 25]\n"
          ]
        }
      ]
    },
    {
      "cell_type": "code",
      "source": [
        "\n",
        "num_names = input(\"How many names? \")\n",
        "num_names = int(num_names)\n",
        "\n",
        "attendance = []\n",
        "\n",
        "for i in range(0, num_names):\n",
        "  name = input()\n",
        "  attendance.append(name)\n",
        "\n",
        "print(attendance)\n",
        "\n"
      ],
      "metadata": {
        "id": "GeVqv98XVV5v",
        "outputId": "1642b14c-641e-40bc-f103-b9352f1de154",
        "colab": {
          "base_uri": "https://localhost:8080/"
        }
      },
      "execution_count": 103,
      "outputs": [
        {
          "output_type": "stream",
          "name": "stdout",
          "text": [
            "How many names? 2\n",
            "mary\n",
            "jame\n",
            "['mary', 'jame']\n"
          ]
        }
      ]
    },
    {
      "cell_type": "markdown",
      "source": [
        "# for 변수 i range 응"
      ],
      "metadata": {
        "id": "TZ1936jLg_fZ"
      }
    },
    {
      "cell_type": "code",
      "source": [
        "# Set the starting number for the countdown\n",
        "sn = 10\n",
        "\n",
        "# Use a for loop to iterate through the countdown\n",
        "for i in range(sn,0, -1): # range함수는 순차적으로 올라가는거라서 역순을 표기할 수 없기때문에 for loops 함수를 사용하는 것 sn 위치가 시작값 0 이\n",
        "# 끝값 -1은 거꾸로   올라가고 싶으면 0,sn,1 하면됨\n",
        "\n",
        "    # Print the current countdown number\n",
        "    print(i)\n",
        "\n",
        "# Print the final message after the countdown\n",
        "print(\"Blast off!\")"
      ],
      "metadata": {
        "id": "PzsqqC3-Xhew",
        "outputId": "4fb48136-ff51-4cff-818b-c53880804bde",
        "colab": {
          "base_uri": "https://localhost:8080/"
        }
      },
      "execution_count": 119,
      "outputs": [
        {
          "output_type": "stream",
          "name": "stdout",
          "text": [
            "10\n",
            "9\n",
            "8\n",
            "7\n",
            "6\n",
            "5\n",
            "4\n",
            "3\n",
            "2\n",
            "1\n",
            "Blast off!\n"
          ]
        }
      ]
    },
    {
      "cell_type": "code",
      "source": [
        "start_number = 17\n",
        "\n",
        "for i in range(17,100,2):\n",
        " print(i)\n",
        "\n",
        "#17부터 시작하는 홀수로 되는걸 만들어라"
      ],
      "metadata": {
        "id": "aBlPyVj-aEuu",
        "outputId": "92d4e957-afa5-4c3c-d963-a1f6e9aac14f",
        "colab": {
          "base_uri": "https://localhost:8080/"
        }
      },
      "execution_count": 126,
      "outputs": [
        {
          "output_type": "stream",
          "name": "stdout",
          "text": [
            "17\n",
            "19\n",
            "21\n",
            "23\n",
            "25\n",
            "27\n",
            "29\n",
            "31\n",
            "33\n",
            "35\n",
            "37\n",
            "39\n",
            "41\n",
            "43\n",
            "45\n",
            "47\n",
            "49\n",
            "51\n",
            "53\n",
            "55\n",
            "57\n",
            "59\n",
            "61\n",
            "63\n",
            "65\n",
            "67\n",
            "69\n",
            "71\n",
            "73\n",
            "75\n",
            "77\n",
            "79\n",
            "81\n",
            "83\n",
            "85\n",
            "87\n",
            "89\n",
            "91\n",
            "93\n",
            "95\n",
            "97\n",
            "99\n"
          ]
        }
      ]
    },
    {
      "cell_type": "code",
      "source": [
        "# DIY how to get a list with numbers 1*1, 2*4, 3*9, 4*16, 5*25 from the above\n",
        "result_list = []\n",
        "\n",
        "for num in range(1, 9):\n",
        "    multiplied = num * (num ** 2)\n",
        "    result_list.append(multiplied)\n",
        "\n",
        "print(result_list)\n",
        "\n",
        "\n",
        "\n",
        "\n",
        "\n",
        "\n",
        "\n"
      ],
      "metadata": {
        "id": "2EeUE3U8ayWL",
        "outputId": "e68e1a1e-8177-49b5-8085-7b3471e268f4",
        "colab": {
          "base_uri": "https://localhost:8080/"
        }
      },
      "execution_count": 153,
      "outputs": [
        {
          "output_type": "stream",
          "name": "stdout",
          "text": [
            "[1, 8, 27, 64, 125, 216, 343, 512]\n"
          ]
        }
      ]
    },
    {
      "cell_type": "markdown",
      "source": [
        "# while loops"
      ],
      "metadata": {
        "id": "JVCp8I7Gg6UX"
      }
    },
    {
      "cell_type": "code",
      "source": [
        "counter = 1\n",
        "\n",
        "while counter <= 7:  # <= 이건 연산자로써 7보다 작을때 출력되고 7되면 끝\n",
        "    print(counter)\n",
        "    counter = counter + 1  # while 함수 안에 들어있어야 조건문이 완성됨\n",
        "#counter= counter +1 이렇게 적는다면 1밖에 증가안함"
      ],
      "metadata": {
        "id": "ICmSSb8Sg53D",
        "outputId": "a44a9c98-11d5-4fc4-f4f1-c9e03d21d133",
        "colab": {
          "base_uri": "https://localhost:8080/"
        }
      },
      "execution_count": 154,
      "outputs": [
        {
          "output_type": "stream",
          "name": "stdout",
          "text": [
            "1\n",
            "2\n",
            "3\n",
            "4\n",
            "5\n",
            "6\n",
            "7\n"
          ]
        }
      ]
    },
    {
      "cell_type": "code",
      "source": [
        "countdown = 10  # 역순\n",
        "\n",
        "while countdown > 0: # 0보다 작을때까지 출력되고 0되면\n",
        "    print(countdown)\n",
        "    countdown = countdown - 1  # countdown -= -1\n",
        "print(\"Done!\")"
      ],
      "metadata": {
        "id": "09W81n5shJ72",
        "outputId": "58cb6711-2e9f-4ff6-f383-491053d2d2e0",
        "colab": {
          "base_uri": "https://localhost:8080/"
        }
      },
      "execution_count": 155,
      "outputs": [
        {
          "output_type": "stream",
          "name": "stdout",
          "text": [
            "10\n",
            "9\n",
            "8\n",
            "7\n",
            "6\n",
            "5\n",
            "4\n",
            "3\n",
            "2\n",
            "1\n",
            "Done!\n"
          ]
        }
      ]
    },
    {
      "cell_type": "markdown",
      "source": [
        "#If loop: 조건문 같은거임\n",
        "조건이 True일때 실행됨"
      ],
      "metadata": {
        "id": "Oa5FZ3_jiA_C"
      }
    },
    {
      "cell_type": "code",
      "source": [
        "age = 18\n",
        "\n",
        "if age >= 18:\n",
        "    print(\"You are eligible to vote.\")"
      ],
      "metadata": {
        "id": "VftpU1Zoh-N2",
        "outputId": "96854e05-14e9-4265-e0c5-b0d1c6e89b76",
        "colab": {
          "base_uri": "https://localhost:8080/"
        }
      },
      "execution_count": 156,
      "outputs": [
        {
          "output_type": "stream",
          "name": "stdout",
          "text": [
            "You are eligible to vote.\n"
          ]
        }
      ]
    },
    {
      "cell_type": "code",
      "source": [
        "yourage = input()\n",
        "yourage = int(yourage)\n",
        "\n",
        "if yourage >= 20:\n",
        "  print(\"Since you are 20 years old or older, you can enter our club.\")\n",
        "elif yourage >=80:\n",
        "  print(\"Since you are 30 years old or older cannot enter our club.\")\n",
        "elif yourage < 20:\n",
        "  print(\"Since you are younger than 20, you are not allowed to enter our club\")"
      ],
      "metadata": {
        "id": "VDBZbGhfiLur",
        "outputId": "474896f1-4e29-4311-d22c-4b719f47d744",
        "colab": {
          "base_uri": "https://localhost:8080/"
        }
      },
      "execution_count": 157,
      "outputs": [
        {
          "output_type": "stream",
          "name": "stdout",
          "text": [
            "15\n",
            "Since you are younger than 20, you are not allowed to enter our club\n"
          ]
        }
      ]
    },
    {
      "cell_type": "markdown",
      "source": [
        "# Toknize(단어나 문장 단위로 분리)\n",
        "Sent_tokenize는 문장\n",
        "word_tokenize는 단어"
      ],
      "metadata": {
        "id": "sRgOiFJKj9Md"
      }
    },
    {
      "cell_type": "code",
      "source": [
        "example_string = \"My name is Sarah. I live in a big city. I like to read books and play with my cat.\""
      ],
      "metadata": {
        "id": "WSLzSchakTFZ"
      },
      "execution_count": 160,
      "outputs": []
    },
    {
      "cell_type": "code",
      "source": [
        "import nltk\n",
        "nltk.download('punkt')\n",
        "from nltk.tokenize import sent_tokenize, word_tokenize  # 설치 파일"
      ],
      "metadata": {
        "id": "-zrP1IxbkWFi",
        "outputId": "62302890-332e-42ba-a6d2-1a96875fb60c",
        "colab": {
          "base_uri": "https://localhost:8080/"
        }
      },
      "execution_count": 169,
      "outputs": [
        {
          "output_type": "stream",
          "name": "stderr",
          "text": [
            "[nltk_data] Downloading package punkt to /root/nltk_data...\n",
            "[nltk_data]   Package punkt is already up-to-date!\n"
          ]
        }
      ]
    },
    {
      "cell_type": "code",
      "source": [
        "slist = sent_tokenize(example_string)\n",
        "slist[0]"
      ],
      "metadata": {
        "id": "mJiAI9zxj8w6",
        "outputId": "c66dbdcc-8df0-404b-f94a-836dd18968e4",
        "colab": {
          "base_uri": "https://localhost:8080/",
          "height": 36
        }
      },
      "execution_count": 168,
      "outputs": [
        {
          "output_type": "execute_result",
          "data": {
            "text/plain": [
              "'My name is Sarah.'"
            ],
            "application/vnd.google.colaboratory.intrinsic+json": {
              "type": "string"
            }
          },
          "metadata": {},
          "execution_count": 168
        }
      ]
    },
    {
      "cell_type": "code",
      "source": [
        "mywords = word_tokenize(example_string)\n",
        "print(len(mywords))\n",
        "mywords[10]"
      ],
      "metadata": {
        "id": "L-wViLYbk3Mg",
        "outputId": "16c2ae2b-c619-4673-d848-2c90a00e7c45",
        "colab": {
          "base_uri": "https://localhost:8080/",
          "height": 54
        }
      },
      "execution_count": 172,
      "outputs": [
        {
          "output_type": "stream",
          "name": "stdout",
          "text": [
            "23\n"
          ]
        },
        {
          "output_type": "execute_result",
          "data": {
            "text/plain": [
              "'city'"
            ],
            "application/vnd.google.colaboratory.intrinsic+json": {
              "type": "string"
            }
          },
          "metadata": {},
          "execution_count": 172
        }
      ]
    },
    {
      "cell_type": "code",
      "source": [
        "w1 = \"Mary\"\n",
        "w2 = \"susan\"\n",
        "w1.casefold()  # lower이랑 똑같"
      ],
      "metadata": {
        "id": "nqQbenoPme3n",
        "outputId": "263bdb54-2453-442d-ac1d-d58a79533a2c",
        "colab": {
          "base_uri": "https://localhost:8080/",
          "height": 36
        }
      },
      "execution_count": 182,
      "outputs": [
        {
          "output_type": "execute_result",
          "data": {
            "text/plain": [
              "'mary'"
            ],
            "application/vnd.google.colaboratory.intrinsic+json": {
              "type": "string"
            }
          },
          "metadata": {},
          "execution_count": 182
        }
      ]
    },
    {
      "cell_type": "markdown",
      "source": [
        "#Stop words 삭제"
      ],
      "metadata": {
        "id": "s7kfeMP6m0VB"
      }
    },
    {
      "cell_type": "code",
      "source": [
        "# Remove punctuations and stopwords (구두점이랑 불용어 is in an 등 쓸모 없는거 삭제)\n",
        "\n",
        "filtered_list = []\n",
        "\n",
        "for word in s1:\n",
        "   if (word.casefold() not in stop_words) & (len(word)>1):\n",
        "        filtered_list.append(word)\n",
        "\n",
        "filtered_list"
      ],
      "metadata": {
        "id": "QPTuQNRRmu01",
        "outputId": "c5873298-08bf-4c03-e2b8-367e34bf33dd",
        "colab": {
          "base_uri": "https://localhost:8080/"
        }
      },
      "execution_count": 183,
      "outputs": [
        {
          "output_type": "execute_result",
          "data": {
            "text/plain": [
              "['Sir', 'protest', 'merry', 'man']"
            ]
          },
          "metadata": {},
          "execution_count": 183
        }
      ]
    },
    {
      "cell_type": "code",
      "source": [],
      "metadata": {
        "id": "Q2ooXgsumuuE"
      },
      "execution_count": null,
      "outputs": []
    },
    {
      "cell_type": "code",
      "source": [],
      "metadata": {
        "id": "Veu_kqOPmfT7"
      },
      "execution_count": null,
      "outputs": []
    }
  ]
}