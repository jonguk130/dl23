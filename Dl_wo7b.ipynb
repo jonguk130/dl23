{
  "nbformat": 4,
  "nbformat_minor": 0,
  "metadata": {
    "colab": {
      "provenance": [],
      "authorship_tag": "ABX9TyME2uqMp5RUAvP5dop9nakT",
      "include_colab_link": true
    },
    "kernelspec": {
      "name": "python3",
      "display_name": "Python 3"
    },
    "language_info": {
      "name": "python"
    }
  },
  "cells": [
    {
      "cell_type": "markdown",
      "metadata": {
        "id": "view-in-github",
        "colab_type": "text"
      },
      "source": [
        "<a href=\"https://colab.research.google.com/github/jonguk130/dl23/blob/main/Dl_wo7b.ipynb\" target=\"_parent\"><img src=\"https://colab.research.google.com/assets/colab-badge.svg\" alt=\"Open In Colab\"/></a>"
      ]
    },
    {
      "cell_type": "markdown",
      "source": [
        "Strings: A string is a sequence of characters enclosed in single or double quotes. Examples: \"Hello, world!\" or 'Python is great!'\n",
        "\n",
        "\n",
        "Integers: Integers are whole numbers, positive or negative, without any decimal points. Examples: 42, -5, 0\n",
        "\n",
        "\n"
      ],
      "metadata": {
        "id": "KUHldBtxTaUs"
      }
    },
    {
      "cell_type": "code",
      "source": [
        "greeting= \"Hello students!\"\n",
        "year =2023"
      ],
      "metadata": {
        "id": "4eUmjHK7Ul3P"
      },
      "execution_count": 15,
      "outputs": []
    },
    {
      "cell_type": "code",
      "source": [
        "print(greeting)\n",
        "print(year)"
      ],
      "metadata": {
        "colab": {
          "base_uri": "https://localhost:8080/"
        },
        "id": "zP6by-yhU5bG",
        "outputId": "1ebfba4c-ca54-48b2-bcf3-0034e848ff97"
      },
      "execution_count": 16,
      "outputs": [
        {
          "output_type": "stream",
          "name": "stdout",
          "text": [
            "Hello students!\n",
            "2023\n"
          ]
        }
      ]
    },
    {
      "cell_type": "code",
      "source": [
        "message = greeting + str(year)\n",
        "print(message)"
      ],
      "metadata": {
        "colab": {
          "base_uri": "https://localhost:8080/"
        },
        "id": "JyGQwYqXVllV",
        "outputId": "78d89c1c-8749-443d-cfa6-c4650aa03e99"
      },
      "execution_count": 18,
      "outputs": [
        {
          "output_type": "stream",
          "name": "stdout",
          "text": [
            "Hello students!2023\n"
          ]
        }
      ]
    },
    {
      "cell_type": "code",
      "source": [
        "num1 = 10\n",
        "num2=  3\n",
        "\n",
        "print(num1+num2)"
      ],
      "metadata": {
        "colab": {
          "base_uri": "https://localhost:8080/"
        },
        "id": "rjJaAiUqYmdU",
        "outputId": "e28f192e-3477-4350-94f4-9d5a6758a0b4"
      },
      "execution_count": 19,
      "outputs": [
        {
          "output_type": "stream",
          "name": "stdout",
          "text": [
            "13\n"
          ]
        }
      ]
    },
    {
      "cell_type": "code",
      "source": [
        "print(num1-num2)"
      ],
      "metadata": {
        "colab": {
          "base_uri": "https://localhost:8080/"
        },
        "id": "1Xg65-YaY5nz",
        "outputId": "99160ef5-9dc1-460c-e336-42bac3593ec8"
      },
      "execution_count": 20,
      "outputs": [
        {
          "output_type": "stream",
          "name": "stdout",
          "text": [
            "7\n"
          ]
        }
      ]
    },
    {
      "cell_type": "code",
      "source": [
        "user_string = input(\"Enter a string\")\n",
        "user_number = int(input(\"Enter a number\"))\n",
        "print(user_string* user_number)"
      ],
      "metadata": {
        "colab": {
          "base_uri": "https://localhost:8080/"
        },
        "id": "Oj5G7BTuY9LA",
        "outputId": "7d04e091-460e-45af-c6cc-4f9746371069"
      },
      "execution_count": 21,
      "outputs": [
        {
          "output_type": "stream",
          "name": "stdout",
          "text": [
            "Enter a string바보야\n",
            "Enter a number5\n",
            "바보야바보야바보야바보야바보야\n"
          ]
        }
      ]
    },
    {
      "cell_type": "code",
      "source": [
        "sentence = \"Coding is fun and easy to learn\"\n",
        "word_list = sentence.split()\n",
        "print(word_list)"
      ],
      "metadata": {
        "colab": {
          "base_uri": "https://localhost:8080/"
        },
        "id": "152CEuQTZfq3",
        "outputId": "7d6820d3-8036-473c-dda2-8bc3b165c594"
      },
      "execution_count": 1,
      "outputs": [
        {
          "output_type": "stream",
          "name": "stdout",
          "text": [
            "['Coding', 'is', 'fun', 'and', 'easy', 'to', 'learn']\n"
          ]
        }
      ]
    },
    {
      "cell_type": "code",
      "source": [
        "text = \"coding is Exciting\"\n",
        "uppercase_text = text.upper()\n",
        "lowercase_text = text.lower()\n",
        "print(\"uppercase_text\",uppercase_text)\n",
        "print(\"lowercase_text\",lowercase_text)"
      ],
      "metadata": {
        "colab": {
          "base_uri": "https://localhost:8080/"
        },
        "id": "uw8ksAnzaF-o",
        "outputId": "56ed9b73-3316-4451-c6a0-72a01b3e79f6"
      },
      "execution_count": 3,
      "outputs": [
        {
          "output_type": "stream",
          "name": "stdout",
          "text": [
            "uppercase_text CODING IS EXCITING\n",
            "lowercase_text coding is exciting\n"
          ]
        }
      ]
    },
    {
      "cell_type": "code",
      "source": [
        "text=\" Hello , world!\"\n",
        "print(\"First charcter\",text[0])\n",
        "print(\"Last character\", text[-1]) \n",
        "print(\"First 5 characters\", text[5])\n",
        "print(\"characters from position 5 to end\", text[5:])\n",
        "print(\"Reverse order\", text[::-1])"
      ],
      "metadata": {
        "colab": {
          "base_uri": "https://localhost:8080/"
        },
        "id": "7VZojLLBbTt7",
        "outputId": "f8c25987-0fc5-4f04-92c4-725d30c110a1"
      },
      "execution_count": 7,
      "outputs": [
        {
          "output_type": "stream",
          "name": "stdout",
          "text": [
            "First charcter  \n",
            "Last character !\n",
            "First 5 characters o\n",
            "characters from position 5 to end o , world!\n",
            "Reverse order !dlrow , olleH \n"
          ]
        }
      ]
    },
    {
      "cell_type": "code",
      "source": [],
      "metadata": {
        "id": "lBTnNuP-b7Cb"
      },
      "execution_count": null,
      "outputs": []
    }
  ]
}